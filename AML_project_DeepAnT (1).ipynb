{
  "nbformat": 4,
  "nbformat_minor": 0,
  "metadata": {
    "colab": {
      "name": "AML_project_DeepAnT.ipynb",
      "provenance": []
    },
    "kernelspec": {
      "display_name": "Python 3",
      "name": "python3"
    },
    "language_info": {
      "name": "python"
    }
  },
  "cells": [
    {
      "cell_type": "code",
      "metadata": {
        "colab": {
          "base_uri": "https://localhost:8080/"
        },
        "id": "F-LYCkPpsKxO",
        "outputId": "7e7f21d9-0826-4a01-8b12-f567de4be9c9"
      },
      "source": [
        "#! pip install scipy==1.1.0\n",
        "! pip install plotly --upgrade"
      ],
      "execution_count": null,
      "outputs": [
        {
          "output_type": "stream",
          "text": [
            "Collecting plotly\n",
            "\u001b[?25l  Downloading https://files.pythonhosted.org/packages/1f/f6/bd3c17c8003b6641df1228e80e1acac97ed8402635e46c2571f8e1ef63af/plotly-4.14.3-py2.py3-none-any.whl (13.2MB)\n",
            "\u001b[K     |████████████████████████████████| 13.2MB 317kB/s \n",
            "\u001b[?25hRequirement already satisfied, skipping upgrade: six in /usr/local/lib/python3.7/dist-packages (from plotly) (1.15.0)\n",
            "Requirement already satisfied, skipping upgrade: retrying>=1.3.3 in /usr/local/lib/python3.7/dist-packages (from plotly) (1.3.3)\n",
            "Installing collected packages: plotly\n",
            "  Found existing installation: plotly 4.4.1\n",
            "    Uninstalling plotly-4.4.1:\n",
            "      Successfully uninstalled plotly-4.4.1\n",
            "Successfully installed plotly-4.14.3\n"
          ],
          "name": "stdout"
        }
      ]
    },
    {
      "cell_type": "code",
      "metadata": {
        "colab": {
          "base_uri": "https://localhost:8080/"
        },
        "id": "8Z3ND8VPsX3l",
        "outputId": "5748ccc5-f90c-409f-b2ed-f0ade570d863"
      },
      "source": [
        "from google.colab import drive\n",
        "drive.mount('/content/gdrive/')"
      ],
      "execution_count": null,
      "outputs": [
        {
          "output_type": "stream",
          "text": [
            "Mounted at /content/gdrive/\n"
          ],
          "name": "stdout"
        }
      ]
    },
    {
      "cell_type": "code",
      "metadata": {
        "id": "CImS5tV3sc8c"
      },
      "source": [
        "import sys\n",
        "import os\n",
        "prefix = '/content/gdrive/My Drive/'\n",
        "customized_path = 'Advanced_ML/project'\n",
        "sys_path = os.path.join(prefix, customized_path)\n",
        "sys.path.append(sys_path)"
      ],
      "execution_count": null,
      "outputs": []
    },
    {
      "cell_type": "code",
      "metadata": {
        "id": "gc85rJcOt5st"
      },
      "source": [
        "import pandas as pd\n",
        "from numpy import array\n",
        "from sklearn import preprocessing\n",
        "df=pd.read_excel('/content/gdrive/My Drive/Advanced_ML/project/italy_data.xlsx')\n",
        "df_required=df.drop(columns=['SNo','Country','RegionName','Latitude','Longitude','TotalHospitalizedPatients','CurrentPositiveCases','TotalPositiveCases','TestsPerformed'])\n",
        "\n",
        "\n",
        "\n"
      ],
      "execution_count": null,
      "outputs": []
    },
    {
      "cell_type": "code",
      "metadata": {
        "id": "GO3AnITOe0UR"
      },
      "source": [
        "def regions(region_code) :\n",
        "  regions_list=[]\n",
        "  regions_dates=[]\n",
        "  regions_anamoly=[]\n",
        "  for i in region_code :  \n",
        "    df_region_1=df_required\n",
        "    df_region_1=df_required.loc[df['RegionCode']==i]\n",
        "    df_region_1=df_region_1[10:150]\n",
        "    df_region_1=df_region_1.drop(columns=['RegionCode'])\n",
        "    df_region_1=df_region_1.fillna(0)\n",
        "    df_region_1_dates=df_region_1\n",
        "    column_final=df_region_1_dates.columns.to_list()\n",
        "    df_region_1_anamoly=array(df_region_1)\n",
        "    df_region_1=df_region_1.drop(columns=['Date'])\n",
        "    column=df_region_1.columns.to_list()\n",
        "    min_max_scaler = preprocessing.MinMaxScaler()\n",
        "    try :\n",
        "      x_scaled = min_max_scaler.fit_transform(df_region_1)\n",
        "    except :\n",
        "      continue;\n",
        "    df_region_1=pd.DataFrame(x_scaled,columns=column)\n",
        "    D_in=df_region_1.shape[1]\n",
        "    regions_list.append(df_region_1)\n",
        "    regions_dates.append(df_region_1_dates)\n",
        "    regions_anamoly.append(df_region_1_anamoly)\n",
        "  return regions_list,regions_dates,regions_anamoly,region_code,column_final\n",
        "    "
      ],
      "execution_count": null,
      "outputs": []
    },
    {
      "cell_type": "code",
      "metadata": {
        "id": "n1cBa86HjFex"
      },
      "source": [
        "regions_list,regions_dates,regions_anamoly,train,column=regions([1,2,3,5,6,7,8,9,10,11,13,14,16,17,18,20,21,22])\n"
      ],
      "execution_count": null,
      "outputs": []
    },
    {
      "cell_type": "code",
      "metadata": {
        "id": "fm0xuiUckOTN",
        "colab": {
          "base_uri": "https://localhost:8080/"
        },
        "outputId": "e97faa1e-46e3-494e-96ab-15a4eb127893"
      },
      "source": [
        "regions_list"
      ],
      "execution_count": null,
      "outputs": [
        {
          "output_type": "execute_result",
          "data": {
            "text/plain": [
              "[     HospitalizedPatients  IntensiveCarePatients  ...  Recovered    Deaths\n",
              " 0                0.000000               0.024609  ...   0.000000  0.000000\n",
              " 1                0.003989               0.053691  ...   0.000000  0.000485\n",
              " 2                0.019088               0.071588  ...   0.000000  0.000728\n",
              " 3                0.057550               0.087248  ...   0.000000  0.000728\n",
              " 4                0.050997               0.098434  ...   0.000000  0.002669\n",
              " ..                    ...                    ...  ...        ...       ...\n",
              " 135              0.030484               0.000000  ...   0.997035  0.999029\n",
              " 136              0.031054               0.000000  ...   0.997523  0.999029\n",
              " 137              0.030484               0.000000  ...   0.997673  0.999272\n",
              " 138              0.028775               0.000000  ...   0.998611  1.000000\n",
              " 139              0.029345               0.000000  ...   1.000000  1.000000\n",
              " \n",
              " [140 rows x 6 columns],\n",
              "      HospitalizedPatients  IntensiveCarePatients  ...  Recovered  Deaths\n",
              " 0                0.000000                    0.0  ...   0.000000     0.0\n",
              " 1                0.000000                    0.0  ...   0.000000     0.0\n",
              " 2                0.007634                    0.0  ...   0.000000     0.0\n",
              " 3                0.007634                    0.0  ...   0.000000     0.0\n",
              " 4                0.030534                    0.0  ...   0.000000     0.0\n",
              " ..                    ...                    ...  ...        ...     ...\n",
              " 135              0.015267                    0.0  ...   0.999047     1.0\n",
              " 136              0.015267                    0.0  ...   0.998093     1.0\n",
              " 137              0.007634                    0.0  ...   1.000000     1.0\n",
              " 138              0.007634                    0.0  ...   1.000000     1.0\n",
              " 139              0.007634                    0.0  ...   1.000000     1.0\n",
              " \n",
              " [140 rows x 6 columns],\n",
              "      HospitalizedPatients  IntensiveCarePatients  ...  Recovered    Deaths\n",
              " 0                0.085590               0.166422  ...   0.000000  0.000000\n",
              " 1                0.123564               0.214076  ...   0.001301  0.002216\n",
              " 2                0.126834               0.250733  ...   0.002070  0.003353\n",
              " 3                0.173443               0.280059  ...   0.002434  0.010120\n",
              " 4                0.222483               0.310117  ...   0.003777  0.014072\n",
              " ..                    ...                    ...  ...        ...       ...\n",
              " 135              0.000084               0.003666  ...   0.993789  0.999401\n",
              " 136              0.000000               0.003666  ...   0.994460  0.999401\n",
              " 137              0.000251               0.002933  ...   0.996517  0.999880\n",
              " 138              0.000251               0.002933  ...   0.998811  0.999940\n",
              " 139              0.000084               0.000000  ...   1.000000  1.000000\n",
              " \n",
              " [140 rows x 6 columns],\n",
              "      HospitalizedPatients  IntensiveCarePatients  ...  Recovered    Deaths\n",
              " 0                0.045775               0.067416  ...   0.000000  0.000000\n",
              " 1                0.060446               0.075843  ...   0.000294  0.000977\n",
              " 2                0.063967               0.115169  ...   0.000471  0.001466\n",
              " 3                0.077465               0.132022  ...   0.000706  0.003908\n",
              " 4                0.100939               0.143258  ...   0.000765  0.004885\n",
              " ..                    ...                    ...  ...        ...       ...\n",
              " 135              0.011150               0.005618  ...   0.998705  0.996092\n",
              " 136              0.011150               0.005618  ...   0.998999  0.996580\n",
              " 137              0.012324               0.005618  ...   0.998999  0.996580\n",
              " 138              0.012324               0.005618  ...   0.999235  0.998046\n",
              " 139              0.012324               0.005618  ...   1.000000  1.000000\n",
              " \n",
              " [140 rows x 6 columns],\n",
              "      HospitalizedPatients  IntensiveCarePatients  ...  Recovered    Deaths\n",
              " 0                0.012766               0.000000  ...   0.000000  0.000000\n",
              " 1                0.012766               0.000000  ...   0.001025  0.000000\n",
              " 2                0.025532               0.016393  ...   0.001025  0.000000\n",
              " 3                0.025532               0.016393  ...   0.001025  0.002899\n",
              " 4                0.072340               0.016393  ...   0.001025  0.002899\n",
              " ..                    ...                    ...  ...        ...       ...\n",
              " 135              0.025532               0.000000  ...   0.992825  1.000000\n",
              " 136              0.025532               0.000000  ...   0.994534  1.000000\n",
              " 137              0.025532               0.000000  ...   0.994875  1.000000\n",
              " 138              0.025532               0.000000  ...   0.995559  1.000000\n",
              " 139              0.029787               0.000000  ...   0.996584  1.000000\n",
              " \n",
              " [140 rows x 6 columns],\n",
              "      HospitalizedPatients  IntensiveCarePatients  ...  Recovered    Deaths\n",
              " 0                0.000000               0.016760  ...   0.000000  0.000000\n",
              " 1                0.000876               0.027933  ...   0.000120  0.000000\n",
              " 2                0.013135               0.033520  ...   0.000120  0.000640\n",
              " 3                0.024518               0.061453  ...   0.000120  0.001921\n",
              " 4                0.042907               0.094972  ...   0.000120  0.002561\n",
              " ..                    ...                    ...  ...        ...       ...\n",
              " 135              0.014886               0.000000  ...   0.992943  1.000000\n",
              " 136              0.014011               0.000000  ...   0.995215  1.000000\n",
              " 137              0.014886               0.000000  ...   0.998923  1.000000\n",
              " 138              0.015762               0.000000  ...   0.999761  1.000000\n",
              " 139              0.017513               0.000000  ...   1.000000  1.000000\n",
              " \n",
              " [140 rows x 6 columns],\n",
              "      HospitalizedPatients  IntensiveCarePatients  ...  Recovered    Deaths\n",
              " 0                0.063681               0.070461  ...   0.000000  0.000000\n",
              " 1                0.081802               0.127371  ...   0.000296  0.001647\n",
              " 2                0.099146               0.157182  ...   0.000633  0.004234\n",
              " 3                0.119337               0.186992  ...   0.000718  0.006116\n",
              " 4                0.128139               0.227642  ...   0.000845  0.009410\n",
              " ..                    ...                    ...  ...        ...       ...\n",
              " 135              0.001035               0.005420  ...   0.997044  0.998353\n",
              " 136              0.000000               0.005420  ...   0.997846  0.998353\n",
              " 137              0.002589               0.000000  ...   0.998142  0.999059\n",
              " 138              0.001035               0.000000  ...   0.998860  0.999530\n",
              " 139              0.000000               0.002710  ...   1.000000  1.000000\n",
              " \n",
              " [140 rows x 6 columns],\n",
              "      HospitalizedPatients  IntensiveCarePatients  ...  Recovered    Deaths\n",
              " 0                0.016637               0.010101  ...   0.000000  0.000000\n",
              " 1                0.024518               0.016835  ...   0.000000  0.000000\n",
              " 2                0.041156               0.023569  ...   0.000000  0.000000\n",
              " 3                0.073555               0.023569  ...   0.000000  0.000000\n",
              " 4                0.087566               0.030303  ...   0.000000  0.000884\n",
              " ..                    ...                    ...  ...        ...       ...\n",
              " 135              0.004378               0.003367  ...   0.998656  0.998232\n",
              " 136              0.004378               0.000000  ...   0.999216  0.998232\n",
              " 137              0.002627               0.000000  ...   0.999328  0.999116\n",
              " 138              0.003503               0.003367  ...   1.000000  1.000000\n",
              " 139              0.004378               0.003367  ...   1.000000  1.000000\n",
              " \n",
              " [140 rows x 6 columns],\n",
              "      HospitalizedPatients  IntensiveCarePatients  ...  Recovered  Deaths\n",
              " 0                0.000000               0.020833  ...   0.000000     0.0\n",
              " 1                0.005714               0.041667  ...   0.000000     0.0\n",
              " 2                0.005714               0.041667  ...   0.000000     0.0\n",
              " 3                0.005714               0.041667  ...   0.000000     0.0\n",
              " 4                0.017143               0.041667  ...   0.000000     0.0\n",
              " ..                    ...                    ...  ...        ...     ...\n",
              " 135              0.028571               0.000000  ...   0.997802     1.0\n",
              " 136              0.028571               0.000000  ...   0.999267     1.0\n",
              " 137              0.028571               0.000000  ...   0.999267     1.0\n",
              " 138              0.028571               0.000000  ...   1.000000     1.0\n",
              " 139              0.028571               0.000000  ...   1.000000     1.0\n",
              " \n",
              " [140 rows x 6 columns],\n",
              "      HospitalizedPatients  IntensiveCarePatients  ...  Recovered    Deaths\n",
              " 0                0.055055               0.112426  ...   0.000000  0.000000\n",
              " 1                0.071071               0.118343  ...   0.000000  0.000000\n",
              " 2                0.092092               0.213018  ...   0.000000  0.002014\n",
              " 3                0.108108               0.242604  ...   0.000000  0.003021\n",
              " 4                0.134134               0.278107  ...   0.000000  0.006042\n",
              " ..                    ...                    ...  ...        ...       ...\n",
              " 135              0.000000               0.005917  ...   0.997011  0.989930\n",
              " 136              0.000000               0.005917  ...   0.997714  0.989930\n",
              " 137              0.000000               0.005917  ...   0.998417  0.989930\n",
              " 138              0.000000               0.005917  ...   0.999121  0.989930\n",
              " 139              0.000000               0.005917  ...   1.000000  0.989930\n",
              " \n",
              " [140 rows x 6 columns],\n",
              "      HospitalizedPatients  IntensiveCarePatients  ...  Recovered    Deaths\n",
              " 0                0.000000               0.000000  ...   0.000000  0.000000\n",
              " 1                0.002833               0.000000  ...   0.000000  0.000000\n",
              " 2                0.008499               0.000000  ...   0.000000  0.000000\n",
              " 3                0.016997               0.000000  ...   0.000000  0.000000\n",
              " 4                0.048159               0.000000  ...   0.000000  0.000000\n",
              " ..                    ...                    ...  ...        ...       ...\n",
              " 135              0.019830               0.000000  ...   0.995295  0.995745\n",
              " 136              0.016997               0.000000  ...   0.995657  0.995745\n",
              " 137              0.014164               0.000000  ...   0.996381  0.995745\n",
              " 138              0.011331               0.000000  ...   0.998190  1.000000\n",
              " 139              0.000000               0.013158  ...   1.000000  1.000000\n",
              " \n",
              " [140 rows x 6 columns],\n",
              "      HospitalizedPatients  IntensiveCarePatients  ...  Recovered  Deaths\n",
              " 0                0.114286               0.000000  ...   0.000000     0.0\n",
              " 1                0.085714               0.222222  ...   0.000000     0.0\n",
              " 2                0.085714               0.222222  ...   0.000000     0.0\n",
              " 3                0.114286               0.222222  ...   0.000000     0.0\n",
              " 4                0.114286               0.222222  ...   0.000000     0.0\n",
              " ..                    ...                    ...  ...        ...     ...\n",
              " 135              0.028571               0.000000  ...   0.997596     1.0\n",
              " 136              0.028571               0.000000  ...   0.997596     1.0\n",
              " 137              0.028571               0.000000  ...   0.997596     1.0\n",
              " 138              0.028571               0.000000  ...   0.997596     1.0\n",
              " 139              0.028571               0.000000  ...   1.000000     1.0\n",
              " \n",
              " [140 rows x 6 columns],\n",
              "      HospitalizedPatients  IntensiveCarePatients  ...  Recovered    Deaths\n",
              " 0                0.000000               0.006289  ...   0.000000  0.000000\n",
              " 1                0.000000               0.006289  ...   0.000000  0.000000\n",
              " 2                0.006221               0.012579  ...   0.000000  0.001828\n",
              " 3                0.018663               0.018868  ...   0.000000  0.003656\n",
              " 4                0.023328               0.037736  ...   0.000000  0.003656\n",
              " ..                    ...                    ...  ...        ...       ...\n",
              " 135              0.013997               0.000000  ...   0.994432  1.000000\n",
              " 136              0.013997               0.000000  ...   0.994432  1.000000\n",
              " 137              0.013997               0.000000  ...   0.994432  1.000000\n",
              " 138              0.009331               0.000000  ...   0.998988  1.000000\n",
              " 139              0.009331               0.000000  ...   1.000000  1.000000\n",
              " \n",
              " [140 rows x 6 columns],\n",
              "      HospitalizedPatients  IntensiveCarePatients  ...  Recovered    Deaths\n",
              " 0                0.000000                    0.0  ...   0.000000  0.000000\n",
              " 1                0.015385                    0.0  ...   0.000000  0.000000\n",
              " 2                0.015385                    0.0  ...   0.000000  0.000000\n",
              " 3                0.030769                    0.0  ...   0.000000  0.000000\n",
              " 4                0.030769                    0.0  ...   0.000000  0.000000\n",
              " ..                    ...                    ...  ...        ...       ...\n",
              " 135              0.046154                    0.0  ...   0.997326  0.964286\n",
              " 136              0.030769                    0.0  ...   0.997326  1.000000\n",
              " 137              0.030769                    0.0  ...   0.997326  1.000000\n",
              " 138              0.030769                    0.0  ...   0.997326  1.000000\n",
              " 139              0.030769                    0.0  ...   0.997326  1.000000\n",
              " \n",
              " [140 rows x 6 columns],\n",
              "      HospitalizedPatients  IntensiveCarePatients  ...  Recovered  Deaths\n",
              " 0                0.000000                    0.0  ...   0.000000     0.0\n",
              " 1                0.005495                    0.0  ...   0.000000     0.0\n",
              " 2                0.005495                    0.0  ...   0.000000     0.0\n",
              " 3                0.021978                    0.0  ...   0.000000     0.0\n",
              " 4                0.038462                    0.0  ...   0.001867     0.0\n",
              " ..                    ...                    ...  ...        ...     ...\n",
              " 135              0.021978                    0.0  ...   0.995331     1.0\n",
              " 136              0.016484                    0.0  ...   0.999066     1.0\n",
              " 137              0.010989                    0.0  ...   1.000000     1.0\n",
              " 138              0.010989                    0.0  ...   1.000000     1.0\n",
              " 139              0.010989                    0.0  ...   1.000000     1.0\n",
              " \n",
              " [140 rows x 6 columns],\n",
              "      HospitalizedPatients  IntensiveCarePatients  ...  Recovered  Deaths\n",
              " 0                0.000000                    0.0  ...    0.00000     0.0\n",
              " 1                0.000000                    0.0  ...    0.00000     0.0\n",
              " 2                0.000000                    0.0  ...    0.00000     0.0\n",
              " 3                0.024194                    0.0  ...    0.00000     0.0\n",
              " 4                0.048387                    0.0  ...    0.00000     0.0\n",
              " ..                    ...                    ...  ...        ...     ...\n",
              " 135              0.040323                    0.0  ...    0.99919     1.0\n",
              " 136              0.040323                    0.0  ...    0.99919     1.0\n",
              " 137              0.040323                    0.0  ...    0.99919     1.0\n",
              " 138              0.040323                    0.0  ...    0.99919     1.0\n",
              " 139              0.040323                    0.0  ...    1.00000     1.0\n",
              " \n",
              " [140 rows x 6 columns],\n",
              "      HospitalizedPatients  IntensiveCarePatients  ...  Recovered  Deaths\n",
              " 0                0.000000                    0.0  ...   0.000000     0.0\n",
              " 1                0.009259                    0.0  ...   0.000000     0.0\n",
              " 2                0.021605                    0.0  ...   0.000000     0.0\n",
              " 3                0.021605                    0.0  ...   0.000000     0.0\n",
              " 4                0.021605                    0.0  ...   0.000000     0.0\n",
              " ..                    ...                    ...  ...        ...     ...\n",
              " 135              0.015432                    0.0  ...   0.996953     1.0\n",
              " 136              0.015432                    0.0  ...   0.997388     1.0\n",
              " 137              0.015432                    0.0  ...   0.997823     1.0\n",
              " 138              0.015432                    0.0  ...   0.998694     1.0\n",
              " 139              0.015432                    0.0  ...   1.000000     1.0\n",
              " \n",
              " [140 rows x 6 columns],\n",
              "      HospitalizedPatients  IntensiveCarePatients  ...  Recovered    Deaths\n",
              " 0                0.005556               0.000000  ...   0.000000  0.000000\n",
              " 1                0.011111               0.000000  ...   0.000000  0.000000\n",
              " 2                0.016667               0.012346  ...   0.000000  0.000000\n",
              " 3                0.019444               0.024691  ...   0.000000  0.000000\n",
              " 4                0.027778               0.024691  ...   0.000000  0.000000\n",
              " ..                    ...                    ...  ...        ...       ...\n",
              " 135              0.000000               0.000000  ...   0.998880  0.869099\n",
              " 136              0.000000               0.000000  ...   0.999776  0.869099\n",
              " 137              0.002778               0.000000  ...   0.999776  0.869099\n",
              " 138              0.002778               0.000000  ...   0.999776  0.869099\n",
              " 139              0.005556               0.000000  ...   1.000000  0.869099\n",
              " \n",
              " [140 rows x 6 columns]]"
            ]
          },
          "metadata": {
            "tags": []
          },
          "execution_count": 7
        }
      ]
    },
    {
      "cell_type": "code",
      "metadata": {
        "id": "zIu4lhWnjR9-"
      },
      "source": [
        "import torch\n",
        "import torch.nn as nn\n",
        "import torch.nn.functional as F\n",
        "class CNN(nn.Module):\n",
        "    \n",
        "    def __init__(self, D_in, D_out):\n",
        "        super(CNN, self).__init__()\n",
        "        self.layer1=nn.Sequential(nn.Conv1d(D_in,20,kernel_size=3,padding=1),\n",
        "                                  nn.ReLU(),\n",
        "                                  nn.MaxPool1d(2,padding=1)     \n",
        "        )\n",
        "        self.layer2=nn.Sequential(nn.Conv1d(20,40,kernel_size=3,padding=1),\n",
        "                                  nn.ReLU(),\n",
        "                                  nn.MaxPool1d(2,padding=1)\n",
        "            \n",
        "        )\n",
        "        self.linear_out=nn.Linear(40*3,D_out)\n",
        "    def forward(self, x):\n",
        "        output=self.layer1(x)\n",
        "        output=self.layer2(output)\n",
        "        output = output.view(output.size(0),-1)\n",
        "        y_predicted=self.linear_out(output)\n",
        "        return y_predicted"
      ],
      "execution_count": null,
      "outputs": []
    },
    {
      "cell_type": "code",
      "metadata": {
        "id": "TFJ6NLK-p1YY"
      },
      "source": [
        "from numpy import array\n",
        "def Data_loader(df,n_input,n_output=1) :  \n",
        "    in_start=0\n",
        "    X,y=list(),list()\n",
        "    df=array(df)\n",
        "    #df = df.reshape((df.shape[0]*df.shape[1], df.shape[2]))\n",
        "    for _ in range(len(df)):\n",
        "      in_end = in_start + n_input\n",
        "      out_end = in_end + n_output\n",
        "\t\t# ensure we have enough data for this instance\n",
        "      if out_end <= len(df):\n",
        "        X_input = df[in_start:in_end]\n",
        "        #x_input = x_input.reshape((len(x_input), 1))\n",
        "        X.append(X_input)\n",
        "        y.append(df[in_end:out_end])\n",
        "      in_start += 1\n",
        "    return array(X), array(y)"
      ],
      "execution_count": null,
      "outputs": []
    },
    {
      "cell_type": "code",
      "metadata": {
        "id": "n4JygsWgjeB9"
      },
      "source": [
        "def predictor(regions_list) :\n",
        "  import numpy as np\n",
        "  import torch.optim as optim\n",
        "  anamoly_list=[]\n",
        "  for i in range(len(regions_list)) :\n",
        "    X,y=Data_loader(regions_list[i],5)\n",
        "    X_tensor = torch.from_numpy(X).float()\n",
        "    y_tensor = torch.from_numpy(y).float()\n",
        "    def CNN_training(Model,learn_rate):\n",
        "        epoch = 2000\n",
        "        X,y=X_tensor,y_tensor.squeeze()\n",
        "        criterion=nn.MSELoss()\n",
        "        optim = torch.optim.Adam(model.parameters(), lr=learn_rate)\n",
        "        for e in range(epoch):\n",
        "                y_pred = Model(X)\n",
        "                loss=criterion(y_pred,y)\n",
        "                optim.zero_grad()\n",
        "                loss.backward()\n",
        "                optim.step()\n",
        "        out=y_pred\n",
        "        return out  \n",
        "    model=CNN(5, 6)     \n",
        "    yhat=CNN_training(model,learn_rate = 1e-3)\n",
        "    y_true=y_tensor.detach().numpy()\n",
        "    yhat=yhat.detach().numpy()\n",
        "    anamoly=[]\n",
        "    for i in range(len(y_true)):\n",
        "      dist = np.linalg.norm( y_true[i]- yhat[i])\n",
        "      if dist > 0.05 :\n",
        "        a=i\n",
        "        anamoly.append(a)\n",
        "    anamoly_list.append(anamoly)\n",
        "  return anamoly_list"
      ],
      "execution_count": null,
      "outputs": []
    },
    {
      "cell_type": "code",
      "metadata": {
        "id": "Cv44odt1jrq-"
      },
      "source": [
        "anamoly_list=predictor(regions_list)"
      ],
      "execution_count": null,
      "outputs": []
    },
    {
      "cell_type": "code",
      "metadata": {
        "id": "QuHmZuf5uefB"
      },
      "source": [
        "def anamoly(anamoly_list) :\n",
        "\n",
        "  first_anamoly=[]\n",
        "  for i in range(len(anamoly_list)) :\n",
        "    a=anamoly_list[i]\n",
        "    try :  \n",
        "      b=a[0]\n",
        "    except :\n",
        "      continue\n",
        "    first_anamoly.append(b)\n",
        "  train_first_anamoly=min(first_anamoly)\n",
        "  anamoly_dates=[]\n",
        "  train_first_anamoly_day=[]\n",
        "  for i in range(len(anamoly_list)) :\n",
        "    a=anamoly_list[i]\n",
        "    try :\n",
        "      b=a[0]\n",
        "    except :\n",
        "      continue\n",
        "    if b == train_first_anamoly :\n",
        "      anamoly_dates.append(i)\n",
        "    else :\n",
        "      continue\n",
        "  for i in anamoly_dates :\n",
        "    j=train[i]\n",
        "    pick=df_required.loc[df['RegionCode']==j]\n",
        "    pick=pick.drop(columns=['RegionCode'])\n",
        "    train_first_anamoly_day.append(pick)\n",
        "    target=train_first_anamoly_day[0][10+train_first_anamoly:10+train_first_anamoly+1]\n",
        "  return target\n"
      ],
      "execution_count": null,
      "outputs": []
    },
    {
      "cell_type": "code",
      "metadata": {
        "colab": {
          "base_uri": "https://localhost:8080/"
        },
        "id": "gtFR6UYIGwZA",
        "outputId": "25e944bb-d27f-4c81-fb6f-3c80030146fa"
      },
      "source": [
        "anamoly_date=anamoly(anamoly_list)\n",
        "anamoly_date_train=anamoly_date['Date']\n",
        "anamoly_date=anamoly_date.drop(columns=['Date'])\n",
        "anamoly_date=array(anamoly_date)\n",
        "anamoly_date\n"
      ],
      "execution_count": null,
      "outputs": [
        {
          "output_type": "execute_result",
          "data": {
            "text/plain": [
              "array([[43, 17, 46, 26,  0,  2]])"
            ]
          },
          "metadata": {
            "tags": []
          },
          "execution_count": 13
        }
      ]
    },
    {
      "cell_type": "code",
      "metadata": {
        "id": "JBv4OTFNKFgS"
      },
      "source": [
        "\n",
        "def test_anamoly(test_regions_list) :\n",
        "  import numpy as np\n",
        "  test_regions=regions(test_regions_list)[1]\n",
        "  output_dates=[]\n",
        "  test_anamoly_data=[]\n",
        "  for k in range(len(test_regions)) :\n",
        "    df_test_region=test_regions[k]\n",
        "    test_region=array(test_regions[k].drop(columns=['Date']))\n",
        "    distance=[]\n",
        "    for i in range(len(test_region)) :\n",
        "      dist = np.linalg.norm( array(test_region[i])- anamoly_date)\n",
        "      distance.append(dist)\n",
        "    minimum=min(distance)\n",
        "    for j in range(len(distance)) :\n",
        "      if minimum == distance[j] :\n",
        "        test_anamoly= test_region[j]\n",
        "        #test_anamoly_data.append(test_anamoly)\n",
        "        flags=j\n",
        "      else :\n",
        "        continue\n",
        "    output=df_test_region[flags:flags+1].values\n",
        "    output_dates.append(output)\n",
        "  return output_dates\n"
      ],
      "execution_count": null,
      "outputs": []
    },
    {
      "cell_type": "code",
      "metadata": {
        "colab": {
          "base_uri": "https://localhost:8080/"
        },
        "id": "V1KGRhULS0j2",
        "outputId": "969e6e08-c790-4092-db09-0323712adf86"
      },
      "source": [
        "result=test_anamoly([1,12,15,19])\n",
        "result\n"
      ],
      "execution_count": null,
      "outputs": [
        {
          "output_type": "execute_result",
          "data": {
            "text/plain": [
              "[array([['2020-03-05T17:00:00', 43, 17, 46, 26, 0, 2]], dtype=object),\n",
              " array([['2020-03-10T18:00:00', 50, 15, 34, 14, 11, 6]], dtype=object),\n",
              " array([['2020-03-09T18:00:00', 42, 8, 69, 19, 1, 0]], dtype=object),\n",
              " array([['2020-03-11T17:00:00', 23, 1, 57, 21, 2, 0]], dtype=object)]"
            ]
          },
          "metadata": {
            "tags": []
          },
          "execution_count": 15
        }
      ]
    },
    {
      "cell_type": "code",
      "metadata": {
        "id": "G9UpXPWmiyxj"
      },
      "source": [
        "\n",
        "df_1=pd.DataFrame(result[1],columns=column)\n",
        "df_2=pd.DataFrame(result[2],columns=column)\n",
        "df_3=pd.DataFrame(result[3],columns=column)\n",
        "df_4=pd.DataFrame(result[0],columns=column)"
      ],
      "execution_count": null,
      "outputs": []
    },
    {
      "cell_type": "code",
      "metadata": {
        "colab": {
          "base_uri": "https://localhost:8080/",
          "height": 35
        },
        "id": "BCOWGpXJ_Uyd",
        "outputId": "65f9c0a5-fd59-4211-bc9f-5cf9b19dbab5"
      },
      "source": [
        "df_4['Date'].values[0]"
      ],
      "execution_count": null,
      "outputs": [
        {
          "output_type": "execute_result",
          "data": {
            "application/vnd.google.colaboratory.intrinsic+json": {
              "type": "string"
            },
            "text/plain": [
              "'2020-03-05T17:00:00'"
            ]
          },
          "metadata": {
            "tags": []
          },
          "execution_count": 17
        }
      ]
    },
    {
      "cell_type": "code",
      "metadata": {
        "colab": {
          "base_uri": "https://localhost:8080/",
          "height": 542
        },
        "id": "--YP_pdVuoxG",
        "outputId": "8b2a8448-a50f-4879-c7c7-c91f9d1281ed"
      },
      "source": [
        "import plotly.express as px\n",
        "df_region_12=regions([12])[1]\n",
        "df_region_12=df_region_12[0][['Date','NewPositiveCases']]\n",
        "fig = px.line(df_region_12, x='Date', y='NewPositiveCases',title='Lazio')\n",
        "fig.update_layout(title={'text': \"Lazio\",\n",
        "        'y':0.9,\n",
        "        'x':0.5,'xanchor': 'center',\n",
        "        'yanchor': 'top'})\n",
        "fig.add_vline(x=df_1['Date'].values[0],line_width=3, line_dash=\"dash\", line_color=\"green\",)\n",
        "fig.add_hline(y=df_1['NewPositiveCases'].values[0],line_width=1, line_dash=\"dash\", line_color=\"red\")\n",
        "fig.add_annotation(x=df_1['Date'].values[0], y=df_1['NewPositiveCases'].values[0],\n",
        "            text=\"Predicted outbreak March 10  2020, New Cases 14 \",\n",
        "            showarrow=True,\n",
        "            arrowhead=2,arrowsize=1,\n",
        "        arrowwidth=2,)\n",
        "fig.show()"
      ],
      "execution_count": null,
      "outputs": [
        {
          "output_type": "display_data",
          "data": {
            "text/html": [
              "<html>\n",
              "<head><meta charset=\"utf-8\" /></head>\n",
              "<body>\n",
              "    <div>            <script src=\"https://cdnjs.cloudflare.com/ajax/libs/mathjax/2.7.5/MathJax.js?config=TeX-AMS-MML_SVG\"></script><script type=\"text/javascript\">if (window.MathJax) {MathJax.Hub.Config({SVG: {font: \"STIX-Web\"}});}</script>                <script type=\"text/javascript\">window.PlotlyConfig = {MathJaxConfig: 'local'};</script>\n",
              "        <script src=\"https://cdn.plot.ly/plotly-latest.min.js\"></script>                <div id=\"2857ed8e-c676-48dc-9dec-8c65c1eb8b6f\" class=\"plotly-graph-div\" style=\"height:525px; width:100%;\"></div>            <script type=\"text/javascript\">                                    window.PLOTLYENV=window.PLOTLYENV || {};                                    if (document.getElementById(\"2857ed8e-c676-48dc-9dec-8c65c1eb8b6f\")) {                    Plotly.newPlot(                        \"2857ed8e-c676-48dc-9dec-8c65c1eb8b6f\",                        [{\"hovertemplate\": \"Date=%{x}<br>NewPositiveCases=%{y}<extra></extra>\", \"legendgroup\": \"\", \"line\": {\"color\": \"#636efa\", \"dash\": \"solid\"}, \"mode\": \"lines\", \"name\": \"\", \"orientation\": \"v\", \"showlegend\": false, \"type\": \"scatter\", \"x\": [\"2020-03-05T17:00:00\", \"2020-03-06T17:00:00\", \"2020-03-07T18:00:00\", \"2020-03-08T18:00:00\", \"2020-03-09T18:00:00\", \"2020-03-10T18:00:00\", \"2020-03-11T17:00:00\", \"2020-03-12T17:00:00\", \"2020-03-13T17:00:00\", \"2020-03-14T17:00:00\", \"2020-03-15T17:00:00\", \"2020-03-16T17:00:00\", \"2020-03-17T17:00:00\", \"2020-03-18T17:00:00\", \"2020-03-19T17:00:00\", \"2020-03-20T17:00:00\", \"2020-03-21T17:00:00\", \"2020-03-22T17:00:00\", \"2020-03-23T17:00:00\", \"2020-03-24T17:00:00\", \"2020-03-25T17:00:00\", \"2020-03-26T17:00:00\", \"2020-03-27T17:00:00\", \"2020-03-28T17:00:00\", \"2020-03-29T17:00:00\", \"2020-03-30T17:00:00\", \"2020-03-31T17:00:00\", \"2020-04-01T17:00:00\", \"2020-04-02T17:00:00\", \"2020-04-03T17:00:00\", \"2020-04-04T17:00:00\", \"2020-04-05T17:00:00\", \"2020-04-06T17:00:00\", \"2020-04-07T17:00:00\", \"2020-04-08T17:00:00\", \"2020-04-09T17:00:00\", \"2020-04-10T17:00:00\", \"2020-04-11T17:00:00\", \"2020-04-12T17:00:00\", \"2020-04-13T17:00:00\", \"2020-04-14T17:00:00\", \"2020-04-15T17:00:00\", \"2020-04-16T17:00:00\", \"2020-04-17T17:00:00\", \"2020-04-18T17:00:00\", \"2020-04-19T17:00:00\", \"2020-04-20T17:00:00\", \"2020-04-21T17:00:00\", \"2020-04-22T17:00:00\", \"2020-04-23T17:00:00\", \"2020-04-24T17:00:00\", \"2020-04-25T17:00:00\", \"2020-04-26T17:00:00\", \"2020-04-27T17:00:00\", \"2020-04-28T17:00:00\", \"2020-04-29T17:00:00\", \"2020-04-30T17:00:00\", \"2020-05-01T17:00:00\", \"2020-05-02T17:00:00\", \"2020-05-03T17:00:00\", \"2020-05-04T17:00:00\", \"2020-05-05T17:00:00\", \"2020-05-06T17:00:00\", \"2020-05-07T17:00:00\", \"2020-05-08T17:00:00\", \"2020-05-09T17:00:00\", \"2020-05-10T17:00:00\", \"2020-05-11T17:00:00\", \"2020-05-12T17:00:00\", \"2020-05-13T17:00:00\", \"2020-05-14T17:00:00\", \"2020-05-15T17:00:00\", \"2020-05-16T17:00:00\", \"2020-05-17T17:00:00\", \"2020-05-18T17:00:00\", \"2020-05-19T17:00:00\", \"2020-05-20T17:00:00\", \"2020-05-21T17:00:00\", \"2020-05-22T17:00:00\", \"2020-05-23T17:00:00\", \"2020-05-24T17:00:00\", \"2020-05-25T17:00:00\", \"2020-05-26T17:00:00\", \"2020-05-27T17:00:00\", \"2020-05-28T17:00:00\", \"2020-05-29T17:00:00\", \"2020-05-30T17:00:00\", \"2020-05-31T17:00:00\", \"2020-06-01T17:00:00\", \"2020-06-02T17:00:00\", \"2020-06-03T17:00:00\", \"2020-06-04T17:00:00\", \"2020-06-05T17:00:00\", \"2020-06-06T17:00:00\", \"2020-06-07T17:00:00\", \"2020-06-08T17:00:00\", \"2020-06-09T17:00:00\", \"2020-06-10T17:00:00\", \"2020-06-11T17:00:00\", \"2020-06-12T17:00:00\", \"2020-06-13T17:00:00\", \"2020-06-14T17:00:00\", \"2020-06-15T17:00:00\", \"2020-06-16T17:00:00\", \"2020-06-17T17:00:00\", \"2020-06-18T17:00:00\", \"2020-06-19T17:00:00\", \"2020-06-20T17:00:00\", \"2020-06-21T17:00:00\", \"2020-06-22T17:00:00\", \"2020-06-23T17:00:00\", \"2020-06-24T17:00:00\", \"2020-06-25T17:00:00\", \"2020-06-26T17:00:00\", \"2020-06-27T17:00:00\", \"2020-06-28T17:00:00\", \"2020-06-29T17:00:00\", \"2020-06-30T17:00:00\", \"2020-07-01T17:00:00\", \"2020-07-02T17:00:00\", \"2020-07-03T17:00:00\", \"2020-07-04T17:00:00\", \"2020-07-05T17:00:00\", \"2020-07-06T17:00:00\", \"2020-07-07T17:00:00\", \"2020-07-08T17:00:00\", \"2020-07-09T17:00:00\", \"2020-07-10T17:00:00\", \"2020-07-11T17:00:00\", \"2020-07-12T17:00:00\", \"2020-07-13T17:00:00\", \"2020-07-14T17:00:00\", \"2020-07-15T17:00:00\", \"2020-07-16T17:00:00\", \"2020-07-17T17:00:00\", \"2020-07-18T17:00:00\", \"2020-07-19T17:00:00\", \"2020-07-20T17:00:00\", \"2020-07-21T17:00:00\", \"2020-07-22T17:00:00\"], \"xaxis\": \"x\", \"y\": [14, 10, 22, 11, 15, 14, 34, 50, 77, 80, 79, 87, 84, 117, 99, 185, 182, 193, 157, 188, 173, 195, 199, 210, 201, 208, 181, 169, 169, 167, 157, 123, 151, 118, 117, 163, 154, 140, 122, 123, 143, 121, 148, 144, 144, 87, 60, 80, 80, 79, 78, 92, 85, 83, 75, 78, 71, 56, 84, 53, 38, 67, 81, 39, 52, 47, 32, 25, 22, 38, 41, 73, 32, 50, 39, 20, 28, 25, 31, 18, 20, 16, 18, 11, 21, 16, 6, 13, 10, 5, 10, 11, 9, 28, 11, 16, 23, 18, 20, 27, 25, 14, 3, 9, 10, 9, 9, 14, 8, 8, 8, 6, 12, 13, 18, 14, 9, 5, 9, 11, 11, 31, 14, 19, 5, 14, 28, 23, 19, 20, 24, 18, 20, 9, 14, 20, 17, 14, 6, 16], \"yaxis\": \"y\"}],                        {\"annotations\": [{\"arrowhead\": 2, \"arrowsize\": 1, \"arrowwidth\": 2, \"showarrow\": true, \"text\": \"Predicted outbreak March 10  2020, New Cases 14 \", \"x\": \"2020-03-10T18:00:00\", \"y\": 14}], \"legend\": {\"tracegroupgap\": 0}, \"shapes\": [{\"line\": {\"color\": \"green\", \"dash\": \"dash\", \"width\": 3}, \"type\": \"line\", \"x0\": \"2020-03-10T18:00:00\", \"x1\": \"2020-03-10T18:00:00\", \"xref\": \"x\", \"y0\": 0, \"y1\": 1, \"yref\": \"y domain\"}, {\"line\": {\"color\": \"red\", \"dash\": \"dash\", \"width\": 1}, \"type\": \"line\", \"x0\": 0, \"x1\": 1, \"xref\": \"x domain\", \"y0\": 14, \"y1\": 14, \"yref\": \"y\"}], \"template\": {\"data\": {\"bar\": [{\"error_x\": {\"color\": \"#2a3f5f\"}, \"error_y\": {\"color\": \"#2a3f5f\"}, \"marker\": {\"line\": {\"color\": \"#E5ECF6\", \"width\": 0.5}}, \"type\": \"bar\"}], \"barpolar\": [{\"marker\": {\"line\": {\"color\": \"#E5ECF6\", \"width\": 0.5}}, \"type\": \"barpolar\"}], \"carpet\": [{\"aaxis\": {\"endlinecolor\": \"#2a3f5f\", \"gridcolor\": \"white\", \"linecolor\": \"white\", \"minorgridcolor\": \"white\", \"startlinecolor\": \"#2a3f5f\"}, \"baxis\": {\"endlinecolor\": \"#2a3f5f\", \"gridcolor\": \"white\", \"linecolor\": \"white\", \"minorgridcolor\": \"white\", \"startlinecolor\": \"#2a3f5f\"}, \"type\": \"carpet\"}], \"choropleth\": [{\"colorbar\": {\"outlinewidth\": 0, \"ticks\": \"\"}, \"type\": \"choropleth\"}], \"contour\": [{\"colorbar\": {\"outlinewidth\": 0, \"ticks\": \"\"}, \"colorscale\": [[0.0, \"#0d0887\"], [0.1111111111111111, \"#46039f\"], [0.2222222222222222, \"#7201a8\"], [0.3333333333333333, \"#9c179e\"], [0.4444444444444444, \"#bd3786\"], [0.5555555555555556, \"#d8576b\"], [0.6666666666666666, \"#ed7953\"], [0.7777777777777778, \"#fb9f3a\"], [0.8888888888888888, \"#fdca26\"], [1.0, \"#f0f921\"]], \"type\": \"contour\"}], \"contourcarpet\": [{\"colorbar\": {\"outlinewidth\": 0, \"ticks\": \"\"}, \"type\": \"contourcarpet\"}], \"heatmap\": [{\"colorbar\": {\"outlinewidth\": 0, \"ticks\": \"\"}, \"colorscale\": [[0.0, \"#0d0887\"], [0.1111111111111111, \"#46039f\"], [0.2222222222222222, \"#7201a8\"], [0.3333333333333333, \"#9c179e\"], [0.4444444444444444, \"#bd3786\"], [0.5555555555555556, \"#d8576b\"], [0.6666666666666666, \"#ed7953\"], [0.7777777777777778, \"#fb9f3a\"], [0.8888888888888888, \"#fdca26\"], [1.0, \"#f0f921\"]], \"type\": \"heatmap\"}], \"heatmapgl\": [{\"colorbar\": {\"outlinewidth\": 0, \"ticks\": \"\"}, \"colorscale\": [[0.0, \"#0d0887\"], [0.1111111111111111, \"#46039f\"], [0.2222222222222222, \"#7201a8\"], [0.3333333333333333, \"#9c179e\"], [0.4444444444444444, \"#bd3786\"], [0.5555555555555556, \"#d8576b\"], [0.6666666666666666, \"#ed7953\"], [0.7777777777777778, \"#fb9f3a\"], [0.8888888888888888, \"#fdca26\"], [1.0, \"#f0f921\"]], \"type\": \"heatmapgl\"}], \"histogram\": [{\"marker\": {\"colorbar\": {\"outlinewidth\": 0, \"ticks\": \"\"}}, \"type\": \"histogram\"}], \"histogram2d\": [{\"colorbar\": {\"outlinewidth\": 0, \"ticks\": \"\"}, \"colorscale\": [[0.0, \"#0d0887\"], [0.1111111111111111, \"#46039f\"], [0.2222222222222222, \"#7201a8\"], [0.3333333333333333, \"#9c179e\"], [0.4444444444444444, \"#bd3786\"], [0.5555555555555556, \"#d8576b\"], [0.6666666666666666, \"#ed7953\"], [0.7777777777777778, \"#fb9f3a\"], [0.8888888888888888, \"#fdca26\"], [1.0, \"#f0f921\"]], \"type\": \"histogram2d\"}], \"histogram2dcontour\": [{\"colorbar\": {\"outlinewidth\": 0, \"ticks\": \"\"}, \"colorscale\": [[0.0, \"#0d0887\"], [0.1111111111111111, \"#46039f\"], [0.2222222222222222, \"#7201a8\"], [0.3333333333333333, \"#9c179e\"], [0.4444444444444444, \"#bd3786\"], [0.5555555555555556, \"#d8576b\"], [0.6666666666666666, \"#ed7953\"], [0.7777777777777778, \"#fb9f3a\"], [0.8888888888888888, \"#fdca26\"], [1.0, \"#f0f921\"]], \"type\": \"histogram2dcontour\"}], \"mesh3d\": [{\"colorbar\": {\"outlinewidth\": 0, \"ticks\": \"\"}, \"type\": \"mesh3d\"}], \"parcoords\": [{\"line\": {\"colorbar\": {\"outlinewidth\": 0, \"ticks\": \"\"}}, \"type\": \"parcoords\"}], \"pie\": [{\"automargin\": true, \"type\": \"pie\"}], \"scatter\": [{\"marker\": {\"colorbar\": {\"outlinewidth\": 0, \"ticks\": \"\"}}, \"type\": \"scatter\"}], \"scatter3d\": [{\"line\": {\"colorbar\": {\"outlinewidth\": 0, \"ticks\": \"\"}}, \"marker\": {\"colorbar\": {\"outlinewidth\": 0, \"ticks\": \"\"}}, \"type\": \"scatter3d\"}], \"scattercarpet\": [{\"marker\": {\"colorbar\": {\"outlinewidth\": 0, \"ticks\": \"\"}}, \"type\": \"scattercarpet\"}], \"scattergeo\": [{\"marker\": {\"colorbar\": {\"outlinewidth\": 0, \"ticks\": \"\"}}, \"type\": \"scattergeo\"}], \"scattergl\": [{\"marker\": {\"colorbar\": {\"outlinewidth\": 0, \"ticks\": \"\"}}, \"type\": \"scattergl\"}], \"scattermapbox\": [{\"marker\": {\"colorbar\": {\"outlinewidth\": 0, \"ticks\": \"\"}}, \"type\": \"scattermapbox\"}], \"scatterpolar\": [{\"marker\": {\"colorbar\": {\"outlinewidth\": 0, \"ticks\": \"\"}}, \"type\": \"scatterpolar\"}], \"scatterpolargl\": [{\"marker\": {\"colorbar\": {\"outlinewidth\": 0, \"ticks\": \"\"}}, \"type\": \"scatterpolargl\"}], \"scatterternary\": [{\"marker\": {\"colorbar\": {\"outlinewidth\": 0, \"ticks\": \"\"}}, \"type\": \"scatterternary\"}], \"surface\": [{\"colorbar\": {\"outlinewidth\": 0, \"ticks\": \"\"}, \"colorscale\": [[0.0, \"#0d0887\"], [0.1111111111111111, \"#46039f\"], [0.2222222222222222, \"#7201a8\"], [0.3333333333333333, \"#9c179e\"], [0.4444444444444444, \"#bd3786\"], [0.5555555555555556, \"#d8576b\"], [0.6666666666666666, \"#ed7953\"], [0.7777777777777778, \"#fb9f3a\"], [0.8888888888888888, \"#fdca26\"], [1.0, \"#f0f921\"]], \"type\": \"surface\"}], \"table\": [{\"cells\": {\"fill\": {\"color\": \"#EBF0F8\"}, \"line\": {\"color\": \"white\"}}, \"header\": {\"fill\": {\"color\": \"#C8D4E3\"}, \"line\": {\"color\": \"white\"}}, \"type\": \"table\"}]}, \"layout\": {\"annotationdefaults\": {\"arrowcolor\": \"#2a3f5f\", \"arrowhead\": 0, \"arrowwidth\": 1}, \"autotypenumbers\": \"strict\", \"coloraxis\": {\"colorbar\": {\"outlinewidth\": 0, \"ticks\": \"\"}}, \"colorscale\": {\"diverging\": [[0, \"#8e0152\"], [0.1, \"#c51b7d\"], [0.2, \"#de77ae\"], [0.3, \"#f1b6da\"], [0.4, \"#fde0ef\"], [0.5, \"#f7f7f7\"], [0.6, \"#e6f5d0\"], [0.7, \"#b8e186\"], [0.8, \"#7fbc41\"], [0.9, \"#4d9221\"], [1, \"#276419\"]], \"sequential\": [[0.0, \"#0d0887\"], [0.1111111111111111, \"#46039f\"], [0.2222222222222222, \"#7201a8\"], [0.3333333333333333, \"#9c179e\"], [0.4444444444444444, \"#bd3786\"], [0.5555555555555556, \"#d8576b\"], [0.6666666666666666, \"#ed7953\"], [0.7777777777777778, \"#fb9f3a\"], [0.8888888888888888, \"#fdca26\"], [1.0, \"#f0f921\"]], \"sequentialminus\": [[0.0, \"#0d0887\"], [0.1111111111111111, \"#46039f\"], [0.2222222222222222, \"#7201a8\"], [0.3333333333333333, \"#9c179e\"], [0.4444444444444444, \"#bd3786\"], [0.5555555555555556, \"#d8576b\"], [0.6666666666666666, \"#ed7953\"], [0.7777777777777778, \"#fb9f3a\"], [0.8888888888888888, \"#fdca26\"], [1.0, \"#f0f921\"]]}, \"colorway\": [\"#636efa\", \"#EF553B\", \"#00cc96\", \"#ab63fa\", \"#FFA15A\", \"#19d3f3\", \"#FF6692\", \"#B6E880\", \"#FF97FF\", \"#FECB52\"], \"font\": {\"color\": \"#2a3f5f\"}, \"geo\": {\"bgcolor\": \"white\", \"lakecolor\": \"white\", \"landcolor\": \"#E5ECF6\", \"showlakes\": true, \"showland\": true, \"subunitcolor\": \"white\"}, \"hoverlabel\": {\"align\": \"left\"}, \"hovermode\": \"closest\", \"mapbox\": {\"style\": \"light\"}, \"paper_bgcolor\": \"white\", \"plot_bgcolor\": \"#E5ECF6\", \"polar\": {\"angularaxis\": {\"gridcolor\": \"white\", \"linecolor\": \"white\", \"ticks\": \"\"}, \"bgcolor\": \"#E5ECF6\", \"radialaxis\": {\"gridcolor\": \"white\", \"linecolor\": \"white\", \"ticks\": \"\"}}, \"scene\": {\"xaxis\": {\"backgroundcolor\": \"#E5ECF6\", \"gridcolor\": \"white\", \"gridwidth\": 2, \"linecolor\": \"white\", \"showbackground\": true, \"ticks\": \"\", \"zerolinecolor\": \"white\"}, \"yaxis\": {\"backgroundcolor\": \"#E5ECF6\", \"gridcolor\": \"white\", \"gridwidth\": 2, \"linecolor\": \"white\", \"showbackground\": true, \"ticks\": \"\", \"zerolinecolor\": \"white\"}, \"zaxis\": {\"backgroundcolor\": \"#E5ECF6\", \"gridcolor\": \"white\", \"gridwidth\": 2, \"linecolor\": \"white\", \"showbackground\": true, \"ticks\": \"\", \"zerolinecolor\": \"white\"}}, \"shapedefaults\": {\"line\": {\"color\": \"#2a3f5f\"}}, \"ternary\": {\"aaxis\": {\"gridcolor\": \"white\", \"linecolor\": \"white\", \"ticks\": \"\"}, \"baxis\": {\"gridcolor\": \"white\", \"linecolor\": \"white\", \"ticks\": \"\"}, \"bgcolor\": \"#E5ECF6\", \"caxis\": {\"gridcolor\": \"white\", \"linecolor\": \"white\", \"ticks\": \"\"}}, \"title\": {\"x\": 0.05}, \"xaxis\": {\"automargin\": true, \"gridcolor\": \"white\", \"linecolor\": \"white\", \"ticks\": \"\", \"title\": {\"standoff\": 15}, \"zerolinecolor\": \"white\", \"zerolinewidth\": 2}, \"yaxis\": {\"automargin\": true, \"gridcolor\": \"white\", \"linecolor\": \"white\", \"ticks\": \"\", \"title\": {\"standoff\": 15}, \"zerolinecolor\": \"white\", \"zerolinewidth\": 2}}}, \"title\": {\"text\": \"Lazio\", \"x\": 0.5, \"xanchor\": \"center\", \"y\": 0.9, \"yanchor\": \"top\"}, \"xaxis\": {\"anchor\": \"y\", \"domain\": [0.0, 1.0], \"title\": {\"text\": \"Date\"}}, \"yaxis\": {\"anchor\": \"x\", \"domain\": [0.0, 1.0], \"title\": {\"text\": \"NewPositiveCases\"}}},                        {\"responsive\": true}                    ).then(function(){\n",
              "                            \n",
              "var gd = document.getElementById('2857ed8e-c676-48dc-9dec-8c65c1eb8b6f');\n",
              "var x = new MutationObserver(function (mutations, observer) {{\n",
              "        var display = window.getComputedStyle(gd).display;\n",
              "        if (!display || display === 'none') {{\n",
              "            console.log([gd, 'removed!']);\n",
              "            Plotly.purge(gd);\n",
              "            observer.disconnect();\n",
              "        }}\n",
              "}});\n",
              "\n",
              "// Listen for the removal of the full notebook cells\n",
              "var notebookContainer = gd.closest('#notebook-container');\n",
              "if (notebookContainer) {{\n",
              "    x.observe(notebookContainer, {childList: true});\n",
              "}}\n",
              "\n",
              "// Listen for the clearing of the current output cell\n",
              "var outputEl = gd.closest('.output');\n",
              "if (outputEl) {{\n",
              "    x.observe(outputEl, {childList: true});\n",
              "}}\n",
              "\n",
              "                        })                };                            </script>        </div>\n",
              "</body>\n",
              "</html>"
            ]
          },
          "metadata": {
            "tags": []
          }
        }
      ]
    },
    {
      "cell_type": "code",
      "metadata": {
        "colab": {
          "base_uri": "https://localhost:8080/",
          "height": 542
        },
        "id": "DAOvpVNJJC8G",
        "outputId": "3e9df98a-a141-4f5f-8acf-fa0ff5bc7193"
      },
      "source": [
        "import plotly.express as px\n",
        "df_region_15=regions([15])[1]\n",
        "df_region_15=df_region_15[0][['Date','NewPositiveCases']]\n",
        "fig = px.line(df_region_15, x='Date', y='NewPositiveCases',title='Campania')\n",
        "fig.update_layout(title={'text': \"Campania\",\n",
        "        'y':0.9,\n",
        "        'x':0.5,'xanchor': 'center',\n",
        "        'yanchor': 'top'})\n",
        "fig.add_vline(x=df_2['Date'].values[0],line_width=3, line_dash=\"dash\", line_color=\"green\",)\n",
        "fig.add_hline(y=df_2['NewPositiveCases'].values[0],line_width=1, line_dash=\"dash\", line_color=\"red\")\n",
        "fig.add_annotation(x=df_2['Date'].values[0], y=df_2['NewPositiveCases'].values[0],\n",
        "            text=\"Predicted outbreak March 9 2020, New Cases 19\",\n",
        "            showarrow=True,\n",
        "            arrowhead=2,arrowsize=1,\n",
        "        arrowwidth=2,)\n",
        "fig.show()"
      ],
      "execution_count": null,
      "outputs": [
        {
          "output_type": "display_data",
          "data": {
            "text/html": [
              "<html>\n",
              "<head><meta charset=\"utf-8\" /></head>\n",
              "<body>\n",
              "    <div>            <script src=\"https://cdnjs.cloudflare.com/ajax/libs/mathjax/2.7.5/MathJax.js?config=TeX-AMS-MML_SVG\"></script><script type=\"text/javascript\">if (window.MathJax) {MathJax.Hub.Config({SVG: {font: \"STIX-Web\"}});}</script>                <script type=\"text/javascript\">window.PlotlyConfig = {MathJaxConfig: 'local'};</script>\n",
              "        <script src=\"https://cdn.plot.ly/plotly-latest.min.js\"></script>                <div id=\"ad252058-5a36-4810-a7b4-28a4cfbf1891\" class=\"plotly-graph-div\" style=\"height:525px; width:100%;\"></div>            <script type=\"text/javascript\">                                    window.PLOTLYENV=window.PLOTLYENV || {};                                    if (document.getElementById(\"ad252058-5a36-4810-a7b4-28a4cfbf1891\")) {                    Plotly.newPlot(                        \"ad252058-5a36-4810-a7b4-28a4cfbf1891\",                        [{\"hovertemplate\": \"Date=%{x}<br>NewPositiveCases=%{y}<extra></extra>\", \"legendgroup\": \"\", \"line\": {\"color\": \"#636efa\", \"dash\": \"solid\"}, \"mode\": \"lines\", \"name\": \"\", \"orientation\": \"v\", \"showlegend\": false, \"type\": \"scatter\", \"x\": [\"2020-03-05T17:00:00\", \"2020-03-06T17:00:00\", \"2020-03-07T18:00:00\", \"2020-03-08T18:00:00\", \"2020-03-09T18:00:00\", \"2020-03-10T18:00:00\", \"2020-03-11T17:00:00\", \"2020-03-12T17:00:00\", \"2020-03-13T17:00:00\", \"2020-03-14T17:00:00\", \"2020-03-15T17:00:00\", \"2020-03-16T17:00:00\", \"2020-03-17T17:00:00\", \"2020-03-18T17:00:00\", \"2020-03-19T17:00:00\", \"2020-03-20T17:00:00\", \"2020-03-21T17:00:00\", \"2020-03-22T17:00:00\", \"2020-03-23T17:00:00\", \"2020-03-24T17:00:00\", \"2020-03-25T17:00:00\", \"2020-03-26T17:00:00\", \"2020-03-27T17:00:00\", \"2020-03-28T17:00:00\", \"2020-03-29T17:00:00\", \"2020-03-30T17:00:00\", \"2020-03-31T17:00:00\", \"2020-04-01T17:00:00\", \"2020-04-02T17:00:00\", \"2020-04-03T17:00:00\", \"2020-04-04T17:00:00\", \"2020-04-05T17:00:00\", \"2020-04-06T17:00:00\", \"2020-04-07T17:00:00\", \"2020-04-08T17:00:00\", \"2020-04-09T17:00:00\", \"2020-04-10T17:00:00\", \"2020-04-11T17:00:00\", \"2020-04-12T17:00:00\", \"2020-04-13T17:00:00\", \"2020-04-14T17:00:00\", \"2020-04-15T17:00:00\", \"2020-04-16T17:00:00\", \"2020-04-17T17:00:00\", \"2020-04-18T17:00:00\", \"2020-04-19T17:00:00\", \"2020-04-20T17:00:00\", \"2020-04-21T17:00:00\", \"2020-04-22T17:00:00\", \"2020-04-23T17:00:00\", \"2020-04-24T17:00:00\", \"2020-04-25T17:00:00\", \"2020-04-26T17:00:00\", \"2020-04-27T17:00:00\", \"2020-04-28T17:00:00\", \"2020-04-29T17:00:00\", \"2020-04-30T17:00:00\", \"2020-05-01T17:00:00\", \"2020-05-02T17:00:00\", \"2020-05-03T17:00:00\", \"2020-05-04T17:00:00\", \"2020-05-05T17:00:00\", \"2020-05-06T17:00:00\", \"2020-05-07T17:00:00\", \"2020-05-08T17:00:00\", \"2020-05-09T17:00:00\", \"2020-05-10T17:00:00\", \"2020-05-11T17:00:00\", \"2020-05-12T17:00:00\", \"2020-05-13T17:00:00\", \"2020-05-14T17:00:00\", \"2020-05-15T17:00:00\", \"2020-05-16T17:00:00\", \"2020-05-17T17:00:00\", \"2020-05-18T17:00:00\", \"2020-05-19T17:00:00\", \"2020-05-20T17:00:00\", \"2020-05-21T17:00:00\", \"2020-05-22T17:00:00\", \"2020-05-23T17:00:00\", \"2020-05-24T17:00:00\", \"2020-05-25T17:00:00\", \"2020-05-26T17:00:00\", \"2020-05-27T17:00:00\", \"2020-05-28T17:00:00\", \"2020-05-29T17:00:00\", \"2020-05-30T17:00:00\", \"2020-05-31T17:00:00\", \"2020-06-01T17:00:00\", \"2020-06-02T17:00:00\", \"2020-06-03T17:00:00\", \"2020-06-04T17:00:00\", \"2020-06-05T17:00:00\", \"2020-06-06T17:00:00\", \"2020-06-07T17:00:00\", \"2020-06-08T17:00:00\", \"2020-06-09T17:00:00\", \"2020-06-10T17:00:00\", \"2020-06-11T17:00:00\", \"2020-06-12T17:00:00\", \"2020-06-13T17:00:00\", \"2020-06-14T17:00:00\", \"2020-06-15T17:00:00\", \"2020-06-16T17:00:00\", \"2020-06-17T17:00:00\", \"2020-06-18T17:00:00\", \"2020-06-19T17:00:00\", \"2020-06-20T17:00:00\", \"2020-06-21T17:00:00\", \"2020-06-22T17:00:00\", \"2020-06-23T17:00:00\", \"2020-06-24T17:00:00\", \"2020-06-25T17:00:00\", \"2020-06-26T17:00:00\", \"2020-06-27T17:00:00\", \"2020-06-28T17:00:00\", \"2020-06-29T17:00:00\", \"2020-06-30T17:00:00\", \"2020-07-01T17:00:00\", \"2020-07-02T17:00:00\", \"2020-07-03T17:00:00\", \"2020-07-04T17:00:00\", \"2020-07-05T17:00:00\", \"2020-07-06T17:00:00\", \"2020-07-07T17:00:00\", \"2020-07-08T17:00:00\", \"2020-07-09T17:00:00\", \"2020-07-10T17:00:00\", \"2020-07-11T17:00:00\", \"2020-07-12T17:00:00\", \"2020-07-13T17:00:00\", \"2020-07-14T17:00:00\", \"2020-07-15T17:00:00\", \"2020-07-16T17:00:00\", \"2020-07-17T17:00:00\", \"2020-07-18T17:00:00\", \"2020-07-19T17:00:00\", \"2020-07-20T17:00:00\", \"2020-07-21T17:00:00\", \"2020-07-22T17:00:00\"], \"xaxis\": \"x\", \"y\": [14, 12, 4, 40, 19, 7, 27, 25, 41, 52, 61, 67, 60, 0, 192, 97, 95, 92, 90, 75, 98, 111, 144, 138, 167, 193, 140, 139, 225, 221, 151, 132, 98, 90, 120, 76, 98, 75, 87, 66, 99, 38, 80, 64, 37, 41, 45, 61, 50, 53, 44, 17, 32, 18, 31, 30, 13, 21, 15, 25, 14, 20, 14, 9, 21, 14, 12, 14, 13, 15, 9, 15, 14, 16, 11, 12, 7, 9, 10, 11, 5, 6, 12, 6, 4, 10, 10, 5, 4, 3, 12, 1, 0, 0, 4, 2, 5, 1, 3, 0, 0, 1, 4, 0, 1, 1, 0, 0, 2, 7, 10, 11, 17, 3, 0, 0, 1, 24, 9, 3, 10, 2, 5, 27, 1, 3, 5, 7, 7, 3, 7, 0, 8, 4, 12, 15, 9, 6, 6, 19], \"yaxis\": \"y\"}],                        {\"annotations\": [{\"arrowhead\": 2, \"arrowsize\": 1, \"arrowwidth\": 2, \"showarrow\": true, \"text\": \"Predicted outbreak March 9 2020, New Cases 19\", \"x\": \"2020-03-09T18:00:00\", \"y\": 19}], \"legend\": {\"tracegroupgap\": 0}, \"shapes\": [{\"line\": {\"color\": \"green\", \"dash\": \"dash\", \"width\": 3}, \"type\": \"line\", \"x0\": \"2020-03-09T18:00:00\", \"x1\": \"2020-03-09T18:00:00\", \"xref\": \"x\", \"y0\": 0, \"y1\": 1, \"yref\": \"y domain\"}, {\"line\": {\"color\": \"red\", \"dash\": \"dash\", \"width\": 1}, \"type\": \"line\", \"x0\": 0, \"x1\": 1, \"xref\": \"x domain\", \"y0\": 19, \"y1\": 19, \"yref\": \"y\"}], \"template\": {\"data\": {\"bar\": [{\"error_x\": {\"color\": \"#2a3f5f\"}, \"error_y\": {\"color\": \"#2a3f5f\"}, \"marker\": {\"line\": {\"color\": \"#E5ECF6\", \"width\": 0.5}}, \"type\": \"bar\"}], \"barpolar\": [{\"marker\": {\"line\": {\"color\": \"#E5ECF6\", \"width\": 0.5}}, \"type\": \"barpolar\"}], \"carpet\": [{\"aaxis\": {\"endlinecolor\": \"#2a3f5f\", \"gridcolor\": \"white\", \"linecolor\": \"white\", \"minorgridcolor\": \"white\", \"startlinecolor\": \"#2a3f5f\"}, \"baxis\": {\"endlinecolor\": \"#2a3f5f\", \"gridcolor\": \"white\", \"linecolor\": \"white\", \"minorgridcolor\": \"white\", \"startlinecolor\": \"#2a3f5f\"}, \"type\": \"carpet\"}], \"choropleth\": [{\"colorbar\": {\"outlinewidth\": 0, \"ticks\": \"\"}, \"type\": \"choropleth\"}], \"contour\": [{\"colorbar\": {\"outlinewidth\": 0, \"ticks\": \"\"}, \"colorscale\": [[0.0, \"#0d0887\"], [0.1111111111111111, \"#46039f\"], [0.2222222222222222, \"#7201a8\"], [0.3333333333333333, \"#9c179e\"], [0.4444444444444444, \"#bd3786\"], [0.5555555555555556, \"#d8576b\"], [0.6666666666666666, \"#ed7953\"], [0.7777777777777778, \"#fb9f3a\"], [0.8888888888888888, \"#fdca26\"], [1.0, \"#f0f921\"]], \"type\": \"contour\"}], \"contourcarpet\": [{\"colorbar\": {\"outlinewidth\": 0, \"ticks\": \"\"}, \"type\": \"contourcarpet\"}], \"heatmap\": [{\"colorbar\": {\"outlinewidth\": 0, \"ticks\": \"\"}, \"colorscale\": [[0.0, \"#0d0887\"], [0.1111111111111111, \"#46039f\"], [0.2222222222222222, \"#7201a8\"], [0.3333333333333333, \"#9c179e\"], [0.4444444444444444, \"#bd3786\"], [0.5555555555555556, \"#d8576b\"], [0.6666666666666666, \"#ed7953\"], [0.7777777777777778, \"#fb9f3a\"], [0.8888888888888888, \"#fdca26\"], [1.0, \"#f0f921\"]], \"type\": \"heatmap\"}], \"heatmapgl\": [{\"colorbar\": {\"outlinewidth\": 0, \"ticks\": \"\"}, \"colorscale\": [[0.0, \"#0d0887\"], [0.1111111111111111, \"#46039f\"], [0.2222222222222222, \"#7201a8\"], [0.3333333333333333, \"#9c179e\"], [0.4444444444444444, \"#bd3786\"], [0.5555555555555556, \"#d8576b\"], [0.6666666666666666, \"#ed7953\"], [0.7777777777777778, \"#fb9f3a\"], [0.8888888888888888, \"#fdca26\"], [1.0, \"#f0f921\"]], \"type\": \"heatmapgl\"}], \"histogram\": [{\"marker\": {\"colorbar\": {\"outlinewidth\": 0, \"ticks\": \"\"}}, \"type\": \"histogram\"}], \"histogram2d\": [{\"colorbar\": {\"outlinewidth\": 0, \"ticks\": \"\"}, \"colorscale\": [[0.0, \"#0d0887\"], [0.1111111111111111, \"#46039f\"], [0.2222222222222222, \"#7201a8\"], [0.3333333333333333, \"#9c179e\"], [0.4444444444444444, \"#bd3786\"], [0.5555555555555556, \"#d8576b\"], [0.6666666666666666, \"#ed7953\"], [0.7777777777777778, \"#fb9f3a\"], [0.8888888888888888, \"#fdca26\"], [1.0, \"#f0f921\"]], \"type\": \"histogram2d\"}], \"histogram2dcontour\": [{\"colorbar\": {\"outlinewidth\": 0, \"ticks\": \"\"}, \"colorscale\": [[0.0, \"#0d0887\"], [0.1111111111111111, \"#46039f\"], [0.2222222222222222, \"#7201a8\"], [0.3333333333333333, \"#9c179e\"], [0.4444444444444444, \"#bd3786\"], [0.5555555555555556, \"#d8576b\"], [0.6666666666666666, \"#ed7953\"], [0.7777777777777778, \"#fb9f3a\"], [0.8888888888888888, \"#fdca26\"], [1.0, \"#f0f921\"]], \"type\": \"histogram2dcontour\"}], \"mesh3d\": [{\"colorbar\": {\"outlinewidth\": 0, \"ticks\": \"\"}, \"type\": \"mesh3d\"}], \"parcoords\": [{\"line\": {\"colorbar\": {\"outlinewidth\": 0, \"ticks\": \"\"}}, \"type\": \"parcoords\"}], \"pie\": [{\"automargin\": true, \"type\": \"pie\"}], \"scatter\": [{\"marker\": {\"colorbar\": {\"outlinewidth\": 0, \"ticks\": \"\"}}, \"type\": \"scatter\"}], \"scatter3d\": [{\"line\": {\"colorbar\": {\"outlinewidth\": 0, \"ticks\": \"\"}}, \"marker\": {\"colorbar\": {\"outlinewidth\": 0, \"ticks\": \"\"}}, \"type\": \"scatter3d\"}], \"scattercarpet\": [{\"marker\": {\"colorbar\": {\"outlinewidth\": 0, \"ticks\": \"\"}}, \"type\": \"scattercarpet\"}], \"scattergeo\": [{\"marker\": {\"colorbar\": {\"outlinewidth\": 0, \"ticks\": \"\"}}, \"type\": \"scattergeo\"}], \"scattergl\": [{\"marker\": {\"colorbar\": {\"outlinewidth\": 0, \"ticks\": \"\"}}, \"type\": \"scattergl\"}], \"scattermapbox\": [{\"marker\": {\"colorbar\": {\"outlinewidth\": 0, \"ticks\": \"\"}}, \"type\": \"scattermapbox\"}], \"scatterpolar\": [{\"marker\": {\"colorbar\": {\"outlinewidth\": 0, \"ticks\": \"\"}}, \"type\": \"scatterpolar\"}], \"scatterpolargl\": [{\"marker\": {\"colorbar\": {\"outlinewidth\": 0, \"ticks\": \"\"}}, \"type\": \"scatterpolargl\"}], \"scatterternary\": [{\"marker\": {\"colorbar\": {\"outlinewidth\": 0, \"ticks\": \"\"}}, \"type\": \"scatterternary\"}], \"surface\": [{\"colorbar\": {\"outlinewidth\": 0, \"ticks\": \"\"}, \"colorscale\": [[0.0, \"#0d0887\"], [0.1111111111111111, \"#46039f\"], [0.2222222222222222, \"#7201a8\"], [0.3333333333333333, \"#9c179e\"], [0.4444444444444444, \"#bd3786\"], [0.5555555555555556, \"#d8576b\"], [0.6666666666666666, \"#ed7953\"], [0.7777777777777778, \"#fb9f3a\"], [0.8888888888888888, \"#fdca26\"], [1.0, \"#f0f921\"]], \"type\": \"surface\"}], \"table\": [{\"cells\": {\"fill\": {\"color\": \"#EBF0F8\"}, \"line\": {\"color\": \"white\"}}, \"header\": {\"fill\": {\"color\": \"#C8D4E3\"}, \"line\": {\"color\": \"white\"}}, \"type\": \"table\"}]}, \"layout\": {\"annotationdefaults\": {\"arrowcolor\": \"#2a3f5f\", \"arrowhead\": 0, \"arrowwidth\": 1}, \"autotypenumbers\": \"strict\", \"coloraxis\": {\"colorbar\": {\"outlinewidth\": 0, \"ticks\": \"\"}}, \"colorscale\": {\"diverging\": [[0, \"#8e0152\"], [0.1, \"#c51b7d\"], [0.2, \"#de77ae\"], [0.3, \"#f1b6da\"], [0.4, \"#fde0ef\"], [0.5, \"#f7f7f7\"], [0.6, \"#e6f5d0\"], [0.7, \"#b8e186\"], [0.8, \"#7fbc41\"], [0.9, \"#4d9221\"], [1, \"#276419\"]], \"sequential\": [[0.0, \"#0d0887\"], [0.1111111111111111, \"#46039f\"], [0.2222222222222222, \"#7201a8\"], [0.3333333333333333, \"#9c179e\"], [0.4444444444444444, \"#bd3786\"], [0.5555555555555556, \"#d8576b\"], [0.6666666666666666, \"#ed7953\"], [0.7777777777777778, \"#fb9f3a\"], [0.8888888888888888, \"#fdca26\"], [1.0, \"#f0f921\"]], \"sequentialminus\": [[0.0, \"#0d0887\"], [0.1111111111111111, \"#46039f\"], [0.2222222222222222, \"#7201a8\"], [0.3333333333333333, \"#9c179e\"], [0.4444444444444444, \"#bd3786\"], [0.5555555555555556, \"#d8576b\"], [0.6666666666666666, \"#ed7953\"], [0.7777777777777778, \"#fb9f3a\"], [0.8888888888888888, \"#fdca26\"], [1.0, \"#f0f921\"]]}, \"colorway\": [\"#636efa\", \"#EF553B\", \"#00cc96\", \"#ab63fa\", \"#FFA15A\", \"#19d3f3\", \"#FF6692\", \"#B6E880\", \"#FF97FF\", \"#FECB52\"], \"font\": {\"color\": \"#2a3f5f\"}, \"geo\": {\"bgcolor\": \"white\", \"lakecolor\": \"white\", \"landcolor\": \"#E5ECF6\", \"showlakes\": true, \"showland\": true, \"subunitcolor\": \"white\"}, \"hoverlabel\": {\"align\": \"left\"}, \"hovermode\": \"closest\", \"mapbox\": {\"style\": \"light\"}, \"paper_bgcolor\": \"white\", \"plot_bgcolor\": \"#E5ECF6\", \"polar\": {\"angularaxis\": {\"gridcolor\": \"white\", \"linecolor\": \"white\", \"ticks\": \"\"}, \"bgcolor\": \"#E5ECF6\", \"radialaxis\": {\"gridcolor\": \"white\", \"linecolor\": \"white\", \"ticks\": \"\"}}, \"scene\": {\"xaxis\": {\"backgroundcolor\": \"#E5ECF6\", \"gridcolor\": \"white\", \"gridwidth\": 2, \"linecolor\": \"white\", \"showbackground\": true, \"ticks\": \"\", \"zerolinecolor\": \"white\"}, \"yaxis\": {\"backgroundcolor\": \"#E5ECF6\", \"gridcolor\": \"white\", \"gridwidth\": 2, \"linecolor\": \"white\", \"showbackground\": true, \"ticks\": \"\", \"zerolinecolor\": \"white\"}, \"zaxis\": {\"backgroundcolor\": \"#E5ECF6\", \"gridcolor\": \"white\", \"gridwidth\": 2, \"linecolor\": \"white\", \"showbackground\": true, \"ticks\": \"\", \"zerolinecolor\": \"white\"}}, \"shapedefaults\": {\"line\": {\"color\": \"#2a3f5f\"}}, \"ternary\": {\"aaxis\": {\"gridcolor\": \"white\", \"linecolor\": \"white\", \"ticks\": \"\"}, \"baxis\": {\"gridcolor\": \"white\", \"linecolor\": \"white\", \"ticks\": \"\"}, \"bgcolor\": \"#E5ECF6\", \"caxis\": {\"gridcolor\": \"white\", \"linecolor\": \"white\", \"ticks\": \"\"}}, \"title\": {\"x\": 0.05}, \"xaxis\": {\"automargin\": true, \"gridcolor\": \"white\", \"linecolor\": \"white\", \"ticks\": \"\", \"title\": {\"standoff\": 15}, \"zerolinecolor\": \"white\", \"zerolinewidth\": 2}, \"yaxis\": {\"automargin\": true, \"gridcolor\": \"white\", \"linecolor\": \"white\", \"ticks\": \"\", \"title\": {\"standoff\": 15}, \"zerolinecolor\": \"white\", \"zerolinewidth\": 2}}}, \"title\": {\"text\": \"Campania\", \"x\": 0.5, \"xanchor\": \"center\", \"y\": 0.9, \"yanchor\": \"top\"}, \"xaxis\": {\"anchor\": \"y\", \"domain\": [0.0, 1.0], \"title\": {\"text\": \"Date\"}}, \"yaxis\": {\"anchor\": \"x\", \"domain\": [0.0, 1.0], \"title\": {\"text\": \"NewPositiveCases\"}}},                        {\"responsive\": true}                    ).then(function(){\n",
              "                            \n",
              "var gd = document.getElementById('ad252058-5a36-4810-a7b4-28a4cfbf1891');\n",
              "var x = new MutationObserver(function (mutations, observer) {{\n",
              "        var display = window.getComputedStyle(gd).display;\n",
              "        if (!display || display === 'none') {{\n",
              "            console.log([gd, 'removed!']);\n",
              "            Plotly.purge(gd);\n",
              "            observer.disconnect();\n",
              "        }}\n",
              "}});\n",
              "\n",
              "// Listen for the removal of the full notebook cells\n",
              "var notebookContainer = gd.closest('#notebook-container');\n",
              "if (notebookContainer) {{\n",
              "    x.observe(notebookContainer, {childList: true});\n",
              "}}\n",
              "\n",
              "// Listen for the clearing of the current output cell\n",
              "var outputEl = gd.closest('.output');\n",
              "if (outputEl) {{\n",
              "    x.observe(outputEl, {childList: true});\n",
              "}}\n",
              "\n",
              "                        })                };                            </script>        </div>\n",
              "</body>\n",
              "</html>"
            ]
          },
          "metadata": {
            "tags": []
          }
        }
      ]
    },
    {
      "cell_type": "code",
      "metadata": {
        "colab": {
          "base_uri": "https://localhost:8080/",
          "height": 542
        },
        "id": "z7pNVUF2KSRN",
        "outputId": "a569f37f-c56b-42d6-c31b-f8e51e45b576"
      },
      "source": [
        "import plotly.express as px\n",
        "df_region_19=regions([19])[1]\n",
        "df_region_19=df_region_19[0][['Date','NewPositiveCases']]\n",
        "fig = px.line(df_region_19, x='Date', y='NewPositiveCases',title='Sicilia')\n",
        "fig.update_layout(title={'text': \"Sicilia\",\n",
        "        'y':0.9,\n",
        "        'x':0.5,'xanchor': 'center',\n",
        "        'yanchor': 'top'})\n",
        "fig.add_vline(x=df_3['Date'].values[0],line_width=3, line_dash=\"dash\", line_color=\"green\",)\n",
        "fig.add_hline(y=df_3['NewPositiveCases'].values[0],line_width=1, line_dash=\"dash\", line_color=\"red\")\n",
        "fig.add_annotation(x=df_3['Date'].values[0], y=df_3['NewPositiveCases'].values[0],\n",
        "            text=\"Predicted outbreak March 11 2020, New Cases 21\",\n",
        "            showarrow=True,\n",
        "            arrowhead=2,arrowsize=1,\n",
        "        arrowwidth=2,)\n",
        "fig.show()"
      ],
      "execution_count": null,
      "outputs": [
        {
          "output_type": "display_data",
          "data": {
            "text/html": [
              "<html>\n",
              "<head><meta charset=\"utf-8\" /></head>\n",
              "<body>\n",
              "    <div>            <script src=\"https://cdnjs.cloudflare.com/ajax/libs/mathjax/2.7.5/MathJax.js?config=TeX-AMS-MML_SVG\"></script><script type=\"text/javascript\">if (window.MathJax) {MathJax.Hub.Config({SVG: {font: \"STIX-Web\"}});}</script>                <script type=\"text/javascript\">window.PlotlyConfig = {MathJaxConfig: 'local'};</script>\n",
              "        <script src=\"https://cdn.plot.ly/plotly-latest.min.js\"></script>                <div id=\"6ac23e80-59c5-4f52-957d-eef3b55ba923\" class=\"plotly-graph-div\" style=\"height:525px; width:100%;\"></div>            <script type=\"text/javascript\">                                    window.PLOTLYENV=window.PLOTLYENV || {};                                    if (document.getElementById(\"6ac23e80-59c5-4f52-957d-eef3b55ba923\")) {                    Plotly.newPlot(                        \"6ac23e80-59c5-4f52-957d-eef3b55ba923\",                        [{\"hovertemplate\": \"Date=%{x}<br>NewPositiveCases=%{y}<extra></extra>\", \"legendgroup\": \"\", \"line\": {\"color\": \"#636efa\", \"dash\": \"solid\"}, \"mode\": \"lines\", \"name\": \"\", \"orientation\": \"v\", \"showlegend\": false, \"type\": \"scatter\", \"x\": [\"2020-03-05T17:00:00\", \"2020-03-06T17:00:00\", \"2020-03-07T18:00:00\", \"2020-03-08T18:00:00\", \"2020-03-09T18:00:00\", \"2020-03-10T18:00:00\", \"2020-03-11T17:00:00\", \"2020-03-12T17:00:00\", \"2020-03-13T17:00:00\", \"2020-03-14T17:00:00\", \"2020-03-15T17:00:00\", \"2020-03-16T17:00:00\", \"2020-03-17T17:00:00\", \"2020-03-18T17:00:00\", \"2020-03-19T17:00:00\", \"2020-03-20T17:00:00\", \"2020-03-21T17:00:00\", \"2020-03-22T17:00:00\", \"2020-03-23T17:00:00\", \"2020-03-24T17:00:00\", \"2020-03-25T17:00:00\", \"2020-03-26T17:00:00\", \"2020-03-27T17:00:00\", \"2020-03-28T17:00:00\", \"2020-03-29T17:00:00\", \"2020-03-30T17:00:00\", \"2020-03-31T17:00:00\", \"2020-04-01T17:00:00\", \"2020-04-02T17:00:00\", \"2020-04-03T17:00:00\", \"2020-04-04T17:00:00\", \"2020-04-05T17:00:00\", \"2020-04-06T17:00:00\", \"2020-04-07T17:00:00\", \"2020-04-08T17:00:00\", \"2020-04-09T17:00:00\", \"2020-04-10T17:00:00\", \"2020-04-11T17:00:00\", \"2020-04-12T17:00:00\", \"2020-04-13T17:00:00\", \"2020-04-14T17:00:00\", \"2020-04-15T17:00:00\", \"2020-04-16T17:00:00\", \"2020-04-17T17:00:00\", \"2020-04-18T17:00:00\", \"2020-04-19T17:00:00\", \"2020-04-20T17:00:00\", \"2020-04-21T17:00:00\", \"2020-04-22T17:00:00\", \"2020-04-23T17:00:00\", \"2020-04-24T17:00:00\", \"2020-04-25T17:00:00\", \"2020-04-26T17:00:00\", \"2020-04-27T17:00:00\", \"2020-04-28T17:00:00\", \"2020-04-29T17:00:00\", \"2020-04-30T17:00:00\", \"2020-05-01T17:00:00\", \"2020-05-02T17:00:00\", \"2020-05-03T17:00:00\", \"2020-05-04T17:00:00\", \"2020-05-05T17:00:00\", \"2020-05-06T17:00:00\", \"2020-05-07T17:00:00\", \"2020-05-08T17:00:00\", \"2020-05-09T17:00:00\", \"2020-05-10T17:00:00\", \"2020-05-11T17:00:00\", \"2020-05-12T17:00:00\", \"2020-05-13T17:00:00\", \"2020-05-14T17:00:00\", \"2020-05-15T17:00:00\", \"2020-05-16T17:00:00\", \"2020-05-17T17:00:00\", \"2020-05-18T17:00:00\", \"2020-05-19T17:00:00\", \"2020-05-20T17:00:00\", \"2020-05-21T17:00:00\", \"2020-05-22T17:00:00\", \"2020-05-23T17:00:00\", \"2020-05-24T17:00:00\", \"2020-05-25T17:00:00\", \"2020-05-26T17:00:00\", \"2020-05-27T17:00:00\", \"2020-05-28T17:00:00\", \"2020-05-29T17:00:00\", \"2020-05-30T17:00:00\", \"2020-05-31T17:00:00\", \"2020-06-01T17:00:00\", \"2020-06-02T17:00:00\", \"2020-06-03T17:00:00\", \"2020-06-04T17:00:00\", \"2020-06-05T17:00:00\", \"2020-06-06T17:00:00\", \"2020-06-07T17:00:00\", \"2020-06-08T17:00:00\", \"2020-06-09T17:00:00\", \"2020-06-10T17:00:00\", \"2020-06-11T17:00:00\", \"2020-06-12T17:00:00\", \"2020-06-13T17:00:00\", \"2020-06-14T17:00:00\", \"2020-06-15T17:00:00\", \"2020-06-16T17:00:00\", \"2020-06-17T17:00:00\", \"2020-06-18T17:00:00\", \"2020-06-19T17:00:00\", \"2020-06-20T17:00:00\", \"2020-06-21T17:00:00\", \"2020-06-22T17:00:00\", \"2020-06-23T17:00:00\", \"2020-06-24T17:00:00\", \"2020-06-25T17:00:00\", \"2020-06-26T17:00:00\", \"2020-06-27T17:00:00\", \"2020-06-28T17:00:00\", \"2020-06-29T17:00:00\", \"2020-06-30T17:00:00\", \"2020-07-01T17:00:00\", \"2020-07-02T17:00:00\", \"2020-07-03T17:00:00\", \"2020-07-04T17:00:00\", \"2020-07-05T17:00:00\", \"2020-07-06T17:00:00\", \"2020-07-07T17:00:00\", \"2020-07-08T17:00:00\", \"2020-07-09T17:00:00\", \"2020-07-10T17:00:00\", \"2020-07-11T17:00:00\", \"2020-07-12T17:00:00\", \"2020-07-13T17:00:00\", \"2020-07-14T17:00:00\", \"2020-07-15T17:00:00\", \"2020-07-16T17:00:00\", \"2020-07-17T17:00:00\", \"2020-07-18T17:00:00\", \"2020-07-19T17:00:00\", \"2020-07-20T17:00:00\", \"2020-07-21T17:00:00\", \"2020-07-22T17:00:00\"], \"xaxis\": \"x\", \"y\": [0, 6, 11, 18, 1, 8, 21, 32, 15, 26, 32, 25, 24, 45, 58, 68, 82, 140, 91, 125, 148, 170, 86, 109, 101, 95, 92, 71, 73, 68, 73, 62, 52, 51, 62, 73, 70, 62, 52, 42, 43, 34, 44, 46, 47, 45, 42, 76, 48, 43, 55, 39, 35, 30, 35, 20, 26, 28, 19, 27, 15, 12, 14, 7, 13, 12, 14, 12, 4, 11, 12, 8, 8, 6, 7, 8, 8, 6, 4, 0, 2, 4, 3, 5, 3, 2, 2, 1, 0, 4, 0, 0, 1, 2, 1, 1, 2, 1, 0, 0, 1, 1, 1, 2, 2, 2, 3, 0, 2, 0, 1, 1, 2, 0, 1, 0, 1, 2, 1, 9, 1, 3, 0, 1, 1, 1, 1, 0, 1, 0, 1, 15, 0, 17, 4, 4, 2, 2, 2, 7], \"yaxis\": \"y\"}],                        {\"annotations\": [{\"arrowhead\": 2, \"arrowsize\": 1, \"arrowwidth\": 2, \"showarrow\": true, \"text\": \"Predicted outbreak March 11 2020, New Cases 21\", \"x\": \"2020-03-11T17:00:00\", \"y\": 21}], \"legend\": {\"tracegroupgap\": 0}, \"shapes\": [{\"line\": {\"color\": \"green\", \"dash\": \"dash\", \"width\": 3}, \"type\": \"line\", \"x0\": \"2020-03-11T17:00:00\", \"x1\": \"2020-03-11T17:00:00\", \"xref\": \"x\", \"y0\": 0, \"y1\": 1, \"yref\": \"y domain\"}, {\"line\": {\"color\": \"red\", \"dash\": \"dash\", \"width\": 1}, \"type\": \"line\", \"x0\": 0, \"x1\": 1, \"xref\": \"x domain\", \"y0\": 21, \"y1\": 21, \"yref\": \"y\"}], \"template\": {\"data\": {\"bar\": [{\"error_x\": {\"color\": \"#2a3f5f\"}, \"error_y\": {\"color\": \"#2a3f5f\"}, \"marker\": {\"line\": {\"color\": \"#E5ECF6\", \"width\": 0.5}}, \"type\": \"bar\"}], \"barpolar\": [{\"marker\": {\"line\": {\"color\": \"#E5ECF6\", \"width\": 0.5}}, \"type\": \"barpolar\"}], \"carpet\": [{\"aaxis\": {\"endlinecolor\": \"#2a3f5f\", \"gridcolor\": \"white\", \"linecolor\": \"white\", \"minorgridcolor\": \"white\", \"startlinecolor\": \"#2a3f5f\"}, \"baxis\": {\"endlinecolor\": \"#2a3f5f\", \"gridcolor\": \"white\", \"linecolor\": \"white\", \"minorgridcolor\": \"white\", \"startlinecolor\": \"#2a3f5f\"}, \"type\": \"carpet\"}], \"choropleth\": [{\"colorbar\": {\"outlinewidth\": 0, \"ticks\": \"\"}, \"type\": \"choropleth\"}], \"contour\": [{\"colorbar\": {\"outlinewidth\": 0, \"ticks\": \"\"}, \"colorscale\": [[0.0, \"#0d0887\"], [0.1111111111111111, \"#46039f\"], [0.2222222222222222, \"#7201a8\"], [0.3333333333333333, \"#9c179e\"], [0.4444444444444444, \"#bd3786\"], [0.5555555555555556, \"#d8576b\"], [0.6666666666666666, \"#ed7953\"], [0.7777777777777778, \"#fb9f3a\"], [0.8888888888888888, \"#fdca26\"], [1.0, \"#f0f921\"]], \"type\": \"contour\"}], \"contourcarpet\": [{\"colorbar\": {\"outlinewidth\": 0, \"ticks\": \"\"}, \"type\": \"contourcarpet\"}], \"heatmap\": [{\"colorbar\": {\"outlinewidth\": 0, \"ticks\": \"\"}, \"colorscale\": [[0.0, \"#0d0887\"], [0.1111111111111111, \"#46039f\"], [0.2222222222222222, \"#7201a8\"], [0.3333333333333333, \"#9c179e\"], [0.4444444444444444, \"#bd3786\"], [0.5555555555555556, \"#d8576b\"], [0.6666666666666666, \"#ed7953\"], [0.7777777777777778, \"#fb9f3a\"], [0.8888888888888888, \"#fdca26\"], [1.0, \"#f0f921\"]], \"type\": \"heatmap\"}], \"heatmapgl\": [{\"colorbar\": {\"outlinewidth\": 0, \"ticks\": \"\"}, \"colorscale\": [[0.0, \"#0d0887\"], [0.1111111111111111, \"#46039f\"], [0.2222222222222222, \"#7201a8\"], [0.3333333333333333, \"#9c179e\"], [0.4444444444444444, \"#bd3786\"], [0.5555555555555556, \"#d8576b\"], [0.6666666666666666, \"#ed7953\"], [0.7777777777777778, \"#fb9f3a\"], [0.8888888888888888, \"#fdca26\"], [1.0, \"#f0f921\"]], \"type\": \"heatmapgl\"}], \"histogram\": [{\"marker\": {\"colorbar\": {\"outlinewidth\": 0, \"ticks\": \"\"}}, \"type\": \"histogram\"}], \"histogram2d\": [{\"colorbar\": {\"outlinewidth\": 0, \"ticks\": \"\"}, \"colorscale\": [[0.0, \"#0d0887\"], [0.1111111111111111, \"#46039f\"], [0.2222222222222222, \"#7201a8\"], [0.3333333333333333, \"#9c179e\"], [0.4444444444444444, \"#bd3786\"], [0.5555555555555556, \"#d8576b\"], [0.6666666666666666, \"#ed7953\"], [0.7777777777777778, \"#fb9f3a\"], [0.8888888888888888, \"#fdca26\"], [1.0, \"#f0f921\"]], \"type\": \"histogram2d\"}], \"histogram2dcontour\": [{\"colorbar\": {\"outlinewidth\": 0, \"ticks\": \"\"}, \"colorscale\": [[0.0, \"#0d0887\"], [0.1111111111111111, \"#46039f\"], [0.2222222222222222, \"#7201a8\"], [0.3333333333333333, \"#9c179e\"], [0.4444444444444444, \"#bd3786\"], [0.5555555555555556, \"#d8576b\"], [0.6666666666666666, \"#ed7953\"], [0.7777777777777778, \"#fb9f3a\"], [0.8888888888888888, \"#fdca26\"], [1.0, \"#f0f921\"]], \"type\": \"histogram2dcontour\"}], \"mesh3d\": [{\"colorbar\": {\"outlinewidth\": 0, \"ticks\": \"\"}, \"type\": \"mesh3d\"}], \"parcoords\": [{\"line\": {\"colorbar\": {\"outlinewidth\": 0, \"ticks\": \"\"}}, \"type\": \"parcoords\"}], \"pie\": [{\"automargin\": true, \"type\": \"pie\"}], \"scatter\": [{\"marker\": {\"colorbar\": {\"outlinewidth\": 0, \"ticks\": \"\"}}, \"type\": \"scatter\"}], \"scatter3d\": [{\"line\": {\"colorbar\": {\"outlinewidth\": 0, \"ticks\": \"\"}}, \"marker\": {\"colorbar\": {\"outlinewidth\": 0, \"ticks\": \"\"}}, \"type\": \"scatter3d\"}], \"scattercarpet\": [{\"marker\": {\"colorbar\": {\"outlinewidth\": 0, \"ticks\": \"\"}}, \"type\": \"scattercarpet\"}], \"scattergeo\": [{\"marker\": {\"colorbar\": {\"outlinewidth\": 0, \"ticks\": \"\"}}, \"type\": \"scattergeo\"}], \"scattergl\": [{\"marker\": {\"colorbar\": {\"outlinewidth\": 0, \"ticks\": \"\"}}, \"type\": \"scattergl\"}], \"scattermapbox\": [{\"marker\": {\"colorbar\": {\"outlinewidth\": 0, \"ticks\": \"\"}}, \"type\": \"scattermapbox\"}], \"scatterpolar\": [{\"marker\": {\"colorbar\": {\"outlinewidth\": 0, \"ticks\": \"\"}}, \"type\": \"scatterpolar\"}], \"scatterpolargl\": [{\"marker\": {\"colorbar\": {\"outlinewidth\": 0, \"ticks\": \"\"}}, \"type\": \"scatterpolargl\"}], \"scatterternary\": [{\"marker\": {\"colorbar\": {\"outlinewidth\": 0, \"ticks\": \"\"}}, \"type\": \"scatterternary\"}], \"surface\": [{\"colorbar\": {\"outlinewidth\": 0, \"ticks\": \"\"}, \"colorscale\": [[0.0, \"#0d0887\"], [0.1111111111111111, \"#46039f\"], [0.2222222222222222, \"#7201a8\"], [0.3333333333333333, \"#9c179e\"], [0.4444444444444444, \"#bd3786\"], [0.5555555555555556, \"#d8576b\"], [0.6666666666666666, \"#ed7953\"], [0.7777777777777778, \"#fb9f3a\"], [0.8888888888888888, \"#fdca26\"], [1.0, \"#f0f921\"]], \"type\": \"surface\"}], \"table\": [{\"cells\": {\"fill\": {\"color\": \"#EBF0F8\"}, \"line\": {\"color\": \"white\"}}, \"header\": {\"fill\": {\"color\": \"#C8D4E3\"}, \"line\": {\"color\": \"white\"}}, \"type\": \"table\"}]}, \"layout\": {\"annotationdefaults\": {\"arrowcolor\": \"#2a3f5f\", \"arrowhead\": 0, \"arrowwidth\": 1}, \"autotypenumbers\": \"strict\", \"coloraxis\": {\"colorbar\": {\"outlinewidth\": 0, \"ticks\": \"\"}}, \"colorscale\": {\"diverging\": [[0, \"#8e0152\"], [0.1, \"#c51b7d\"], [0.2, \"#de77ae\"], [0.3, \"#f1b6da\"], [0.4, \"#fde0ef\"], [0.5, \"#f7f7f7\"], [0.6, \"#e6f5d0\"], [0.7, \"#b8e186\"], [0.8, \"#7fbc41\"], [0.9, \"#4d9221\"], [1, \"#276419\"]], \"sequential\": [[0.0, \"#0d0887\"], [0.1111111111111111, \"#46039f\"], [0.2222222222222222, \"#7201a8\"], [0.3333333333333333, \"#9c179e\"], [0.4444444444444444, \"#bd3786\"], [0.5555555555555556, \"#d8576b\"], [0.6666666666666666, \"#ed7953\"], [0.7777777777777778, \"#fb9f3a\"], [0.8888888888888888, \"#fdca26\"], [1.0, \"#f0f921\"]], \"sequentialminus\": [[0.0, \"#0d0887\"], [0.1111111111111111, \"#46039f\"], [0.2222222222222222, \"#7201a8\"], [0.3333333333333333, \"#9c179e\"], [0.4444444444444444, \"#bd3786\"], [0.5555555555555556, \"#d8576b\"], [0.6666666666666666, \"#ed7953\"], [0.7777777777777778, \"#fb9f3a\"], [0.8888888888888888, \"#fdca26\"], [1.0, \"#f0f921\"]]}, \"colorway\": [\"#636efa\", \"#EF553B\", \"#00cc96\", \"#ab63fa\", \"#FFA15A\", \"#19d3f3\", \"#FF6692\", \"#B6E880\", \"#FF97FF\", \"#FECB52\"], \"font\": {\"color\": \"#2a3f5f\"}, \"geo\": {\"bgcolor\": \"white\", \"lakecolor\": \"white\", \"landcolor\": \"#E5ECF6\", \"showlakes\": true, \"showland\": true, \"subunitcolor\": \"white\"}, \"hoverlabel\": {\"align\": \"left\"}, \"hovermode\": \"closest\", \"mapbox\": {\"style\": \"light\"}, \"paper_bgcolor\": \"white\", \"plot_bgcolor\": \"#E5ECF6\", \"polar\": {\"angularaxis\": {\"gridcolor\": \"white\", \"linecolor\": \"white\", \"ticks\": \"\"}, \"bgcolor\": \"#E5ECF6\", \"radialaxis\": {\"gridcolor\": \"white\", \"linecolor\": \"white\", \"ticks\": \"\"}}, \"scene\": {\"xaxis\": {\"backgroundcolor\": \"#E5ECF6\", \"gridcolor\": \"white\", \"gridwidth\": 2, \"linecolor\": \"white\", \"showbackground\": true, \"ticks\": \"\", \"zerolinecolor\": \"white\"}, \"yaxis\": {\"backgroundcolor\": \"#E5ECF6\", \"gridcolor\": \"white\", \"gridwidth\": 2, \"linecolor\": \"white\", \"showbackground\": true, \"ticks\": \"\", \"zerolinecolor\": \"white\"}, \"zaxis\": {\"backgroundcolor\": \"#E5ECF6\", \"gridcolor\": \"white\", \"gridwidth\": 2, \"linecolor\": \"white\", \"showbackground\": true, \"ticks\": \"\", \"zerolinecolor\": \"white\"}}, \"shapedefaults\": {\"line\": {\"color\": \"#2a3f5f\"}}, \"ternary\": {\"aaxis\": {\"gridcolor\": \"white\", \"linecolor\": \"white\", \"ticks\": \"\"}, \"baxis\": {\"gridcolor\": \"white\", \"linecolor\": \"white\", \"ticks\": \"\"}, \"bgcolor\": \"#E5ECF6\", \"caxis\": {\"gridcolor\": \"white\", \"linecolor\": \"white\", \"ticks\": \"\"}}, \"title\": {\"x\": 0.05}, \"xaxis\": {\"automargin\": true, \"gridcolor\": \"white\", \"linecolor\": \"white\", \"ticks\": \"\", \"title\": {\"standoff\": 15}, \"zerolinecolor\": \"white\", \"zerolinewidth\": 2}, \"yaxis\": {\"automargin\": true, \"gridcolor\": \"white\", \"linecolor\": \"white\", \"ticks\": \"\", \"title\": {\"standoff\": 15}, \"zerolinecolor\": \"white\", \"zerolinewidth\": 2}}}, \"title\": {\"text\": \"Sicilia\", \"x\": 0.5, \"xanchor\": \"center\", \"y\": 0.9, \"yanchor\": \"top\"}, \"xaxis\": {\"anchor\": \"y\", \"domain\": [0.0, 1.0], \"title\": {\"text\": \"Date\"}}, \"yaxis\": {\"anchor\": \"x\", \"domain\": [0.0, 1.0], \"title\": {\"text\": \"NewPositiveCases\"}}},                        {\"responsive\": true}                    ).then(function(){\n",
              "                            \n",
              "var gd = document.getElementById('6ac23e80-59c5-4f52-957d-eef3b55ba923');\n",
              "var x = new MutationObserver(function (mutations, observer) {{\n",
              "        var display = window.getComputedStyle(gd).display;\n",
              "        if (!display || display === 'none') {{\n",
              "            console.log([gd, 'removed!']);\n",
              "            Plotly.purge(gd);\n",
              "            observer.disconnect();\n",
              "        }}\n",
              "}});\n",
              "\n",
              "// Listen for the removal of the full notebook cells\n",
              "var notebookContainer = gd.closest('#notebook-container');\n",
              "if (notebookContainer) {{\n",
              "    x.observe(notebookContainer, {childList: true});\n",
              "}}\n",
              "\n",
              "// Listen for the clearing of the current output cell\n",
              "var outputEl = gd.closest('.output');\n",
              "if (outputEl) {{\n",
              "    x.observe(outputEl, {childList: true});\n",
              "}}\n",
              "\n",
              "                        })                };                            </script>        </div>\n",
              "</body>\n",
              "</html>"
            ]
          },
          "metadata": {
            "tags": []
          }
        }
      ]
    },
    {
      "cell_type": "code",
      "metadata": {
        "id": "wAIe4q4AT0C8"
      },
      "source": [
        "def PeakRatio(regions_list) :\n",
        "  ratio_list=[]\n",
        "  for i in regions_list :\n",
        "    df_region_i=regions([i])[1]\n",
        "    df_region_i_pc=df_region_i[0]['NewPositiveCases'].values.tolist()\n",
        "    region_i_peak=max(df_region_i_pc)\n",
        "    results=test_anamoly([i])\n",
        "    predicted_peak=results[0][0][4]\n",
        "    ratio=region_i_peak/predicted_peak\n",
        "    ratio_list.append(ratio)\n",
        "  return ratio_list "
      ],
      "execution_count": null,
      "outputs": []
    },
    {
      "cell_type": "code",
      "metadata": {
        "colab": {
          "base_uri": "https://localhost:8080/"
        },
        "id": "lC2sIuVLgOCq",
        "outputId": "fe26c2de-1585-4f4e-af88-d5bf47a16356"
      },
      "source": [
        "ratio_list=PeakRatio([1,12,15,19])  \n",
        "ratio_list"
      ],
      "execution_count": null,
      "outputs": [
        {
          "output_type": "execute_result",
          "data": {
            "text/plain": [
              "[38.30769230769231, 15.0, 11.842105263157896, 8.095238095238095]"
            ]
          },
          "metadata": {
            "tags": []
          },
          "execution_count": 26
        }
      ]
    }
  ]
}